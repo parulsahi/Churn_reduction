{
 "cells": [
  {
   "cell_type": "code",
   "execution_count": 1,
   "metadata": {},
   "outputs": [
    {
     "name": "stderr",
     "output_type": "stream",
     "text": [
      "C:\\Users\\parul\\Anaconda3\\lib\\site-packages\\sklearn\\cross_validation.py:41: DeprecationWarning: This module was deprecated in version 0.18 in favor of the model_selection module into which all the refactored classes and functions are moved. Also note that the interface of the new CV iterators are different from that of this module. This module will be removed in 0.20.\n",
      "  \"This module will be removed in 0.20.\", DeprecationWarning)\n"
     ]
    }
   ],
   "source": [
    "#import libraries\n",
    "import os\n",
    "import pandas as pd\n",
    "import numpy as np\n",
    "import matplotlib.pyplot as plt\n",
    "%matplotlib inline \n",
    "from sklearn.cross_validation import train_test_split\n",
    "from sklearn import tree\n",
    "from sklearn.metrics import accuracy_score\n",
    "from sklearn.ensemble import RandomForestClassifier\n",
    "import statsmodels.api as sm\n",
    "from sklearn.neighbors import KNeighborsClassifier\n",
    "from sklearn.metrics import confusion_matrix \n",
    "import seaborn as sns\n",
    "from scipy.stats import chi2_contingency\n",
    "from sklearn.preprocessing import LabelEncoder,OneHotEncoder\n",
    "from sklearn.naive_bayes import GaussianNB\n",
    "from sklearn.metrics import roc_curve, auc"
   ]
  },
  {
   "cell_type": "code",
   "execution_count": 2,
   "metadata": {},
   "outputs": [],
   "source": [
    "#set working directory\n",
    "os.chdir(\"C:/Users/parul/Desktop/Data Science/PROJECT/project1\")"
   ]
  },
  {
   "cell_type": "code",
   "execution_count": 3,
   "metadata": {},
   "outputs": [
    {
     "data": {
      "text/plain": [
       "'C:\\\\Users\\\\parul\\\\Desktop\\\\Data Science\\\\PROJECT\\\\project1'"
      ]
     },
     "execution_count": 3,
     "metadata": {},
     "output_type": "execute_result"
    }
   ],
   "source": [
    "os.getcwd()"
   ]
  },
  {
   "cell_type": "code",
   "execution_count": 4,
   "metadata": {},
   "outputs": [],
   "source": [
    "#Load train and test data\n",
    "train=pd.read_csv(\"Train_data.csv\")\n",
    "test=pd.read_csv(\"Test_data.csv\")"
   ]
  },
  {
   "cell_type": "code",
   "execution_count": 5,
   "metadata": {},
   "outputs": [],
   "source": [
    "#create new variable to identify train and test dataset post data manipulations\n",
    "train['isTrain']=1\n",
    "test['isTrain']=0"
   ]
  },
  {
   "cell_type": "code",
   "execution_count": 6,
   "metadata": {},
   "outputs": [
    {
     "name": "stdout",
     "output_type": "stream",
     "text": [
      "<class 'pandas.core.frame.DataFrame'>\n",
      "RangeIndex: 3333 entries, 0 to 3332\n",
      "Data columns (total 22 columns):\n",
      "state                            3333 non-null object\n",
      "account length                   3333 non-null int64\n",
      "area code                        3333 non-null int64\n",
      "phone number                     3333 non-null object\n",
      "international plan               3333 non-null object\n",
      "voice mail plan                  3333 non-null object\n",
      "number vmail messages            3333 non-null int64\n",
      "total day minutes                3333 non-null float64\n",
      "total day calls                  3333 non-null int64\n",
      "total day charge                 3333 non-null float64\n",
      "total eve minutes                3333 non-null float64\n",
      "total eve calls                  3333 non-null int64\n",
      "total eve charge                 3333 non-null float64\n",
      "total night minutes              3333 non-null float64\n",
      "total night calls                3333 non-null int64\n",
      "total night charge               3333 non-null float64\n",
      "total intl minutes               3333 non-null float64\n",
      "total intl calls                 3333 non-null int64\n",
      "total intl charge                3333 non-null float64\n",
      "number customer service calls    3333 non-null int64\n",
      "Churn                            3333 non-null object\n",
      "isTrain                          3333 non-null int64\n",
      "dtypes: float64(8), int64(9), object(5)\n",
      "memory usage: 572.9+ KB\n"
     ]
    }
   ],
   "source": [
    "train.info()"
   ]
  },
  {
   "cell_type": "code",
   "execution_count": 7,
   "metadata": {},
   "outputs": [
    {
     "data": {
      "text/plain": [
       "(5000, 22)"
      ]
     },
     "execution_count": 7,
     "metadata": {},
     "output_type": "execute_result"
    }
   ],
   "source": [
    "#combined data with both train and test dataset\n",
    "data=train.append(test)\n",
    "data.shape\n"
   ]
  },
  {
   "cell_type": "code",
   "execution_count": 8,
   "metadata": {},
   "outputs": [
    {
     "data": {
      "text/html": [
       "<div>\n",
       "<style scoped>\n",
       "    .dataframe tbody tr th:only-of-type {\n",
       "        vertical-align: middle;\n",
       "    }\n",
       "\n",
       "    .dataframe tbody tr th {\n",
       "        vertical-align: top;\n",
       "    }\n",
       "\n",
       "    .dataframe thead th {\n",
       "        text-align: right;\n",
       "    }\n",
       "</style>\n",
       "<table border=\"1\" class=\"dataframe\">\n",
       "  <thead>\n",
       "    <tr style=\"text-align: right;\">\n",
       "      <th></th>\n",
       "      <th>state</th>\n",
       "      <th>account length</th>\n",
       "      <th>area code</th>\n",
       "      <th>phone number</th>\n",
       "      <th>international plan</th>\n",
       "      <th>voice mail plan</th>\n",
       "      <th>number vmail messages</th>\n",
       "      <th>total day minutes</th>\n",
       "      <th>total day calls</th>\n",
       "      <th>total day charge</th>\n",
       "      <th>...</th>\n",
       "      <th>total eve charge</th>\n",
       "      <th>total night minutes</th>\n",
       "      <th>total night calls</th>\n",
       "      <th>total night charge</th>\n",
       "      <th>total intl minutes</th>\n",
       "      <th>total intl calls</th>\n",
       "      <th>total intl charge</th>\n",
       "      <th>number customer service calls</th>\n",
       "      <th>Churn</th>\n",
       "      <th>isTrain</th>\n",
       "    </tr>\n",
       "  </thead>\n",
       "  <tbody>\n",
       "    <tr>\n",
       "      <th>0</th>\n",
       "      <td>KS</td>\n",
       "      <td>128</td>\n",
       "      <td>415</td>\n",
       "      <td>382-4657</td>\n",
       "      <td>no</td>\n",
       "      <td>yes</td>\n",
       "      <td>25</td>\n",
       "      <td>265.1</td>\n",
       "      <td>110</td>\n",
       "      <td>45.07</td>\n",
       "      <td>...</td>\n",
       "      <td>16.78</td>\n",
       "      <td>244.7</td>\n",
       "      <td>91</td>\n",
       "      <td>11.01</td>\n",
       "      <td>10.0</td>\n",
       "      <td>3</td>\n",
       "      <td>2.70</td>\n",
       "      <td>1</td>\n",
       "      <td>False.</td>\n",
       "      <td>1</td>\n",
       "    </tr>\n",
       "    <tr>\n",
       "      <th>1</th>\n",
       "      <td>OH</td>\n",
       "      <td>107</td>\n",
       "      <td>415</td>\n",
       "      <td>371-7191</td>\n",
       "      <td>no</td>\n",
       "      <td>yes</td>\n",
       "      <td>26</td>\n",
       "      <td>161.6</td>\n",
       "      <td>123</td>\n",
       "      <td>27.47</td>\n",
       "      <td>...</td>\n",
       "      <td>16.62</td>\n",
       "      <td>254.4</td>\n",
       "      <td>103</td>\n",
       "      <td>11.45</td>\n",
       "      <td>13.7</td>\n",
       "      <td>3</td>\n",
       "      <td>3.70</td>\n",
       "      <td>1</td>\n",
       "      <td>False.</td>\n",
       "      <td>1</td>\n",
       "    </tr>\n",
       "    <tr>\n",
       "      <th>2</th>\n",
       "      <td>NJ</td>\n",
       "      <td>137</td>\n",
       "      <td>415</td>\n",
       "      <td>358-1921</td>\n",
       "      <td>no</td>\n",
       "      <td>no</td>\n",
       "      <td>0</td>\n",
       "      <td>243.4</td>\n",
       "      <td>114</td>\n",
       "      <td>41.38</td>\n",
       "      <td>...</td>\n",
       "      <td>10.30</td>\n",
       "      <td>162.6</td>\n",
       "      <td>104</td>\n",
       "      <td>7.32</td>\n",
       "      <td>12.2</td>\n",
       "      <td>5</td>\n",
       "      <td>3.29</td>\n",
       "      <td>0</td>\n",
       "      <td>False.</td>\n",
       "      <td>1</td>\n",
       "    </tr>\n",
       "    <tr>\n",
       "      <th>3</th>\n",
       "      <td>OH</td>\n",
       "      <td>84</td>\n",
       "      <td>408</td>\n",
       "      <td>375-9999</td>\n",
       "      <td>yes</td>\n",
       "      <td>no</td>\n",
       "      <td>0</td>\n",
       "      <td>299.4</td>\n",
       "      <td>71</td>\n",
       "      <td>50.90</td>\n",
       "      <td>...</td>\n",
       "      <td>5.26</td>\n",
       "      <td>196.9</td>\n",
       "      <td>89</td>\n",
       "      <td>8.86</td>\n",
       "      <td>6.6</td>\n",
       "      <td>7</td>\n",
       "      <td>1.78</td>\n",
       "      <td>2</td>\n",
       "      <td>False.</td>\n",
       "      <td>1</td>\n",
       "    </tr>\n",
       "    <tr>\n",
       "      <th>4</th>\n",
       "      <td>OK</td>\n",
       "      <td>75</td>\n",
       "      <td>415</td>\n",
       "      <td>330-6626</td>\n",
       "      <td>yes</td>\n",
       "      <td>no</td>\n",
       "      <td>0</td>\n",
       "      <td>166.7</td>\n",
       "      <td>113</td>\n",
       "      <td>28.34</td>\n",
       "      <td>...</td>\n",
       "      <td>12.61</td>\n",
       "      <td>186.9</td>\n",
       "      <td>121</td>\n",
       "      <td>8.41</td>\n",
       "      <td>10.1</td>\n",
       "      <td>3</td>\n",
       "      <td>2.73</td>\n",
       "      <td>3</td>\n",
       "      <td>False.</td>\n",
       "      <td>1</td>\n",
       "    </tr>\n",
       "  </tbody>\n",
       "</table>\n",
       "<p>5 rows × 22 columns</p>\n",
       "</div>"
      ],
      "text/plain": [
       "  state  account length  area code phone number international plan  \\\n",
       "0    KS             128        415     382-4657                 no   \n",
       "1    OH             107        415     371-7191                 no   \n",
       "2    NJ             137        415     358-1921                 no   \n",
       "3    OH              84        408     375-9999                yes   \n",
       "4    OK              75        415     330-6626                yes   \n",
       "\n",
       "  voice mail plan  number vmail messages  total day minutes  total day calls  \\\n",
       "0             yes                     25              265.1              110   \n",
       "1             yes                     26              161.6              123   \n",
       "2              no                      0              243.4              114   \n",
       "3              no                      0              299.4               71   \n",
       "4              no                      0              166.7              113   \n",
       "\n",
       "   total day charge   ...     total eve charge  total night minutes  \\\n",
       "0             45.07   ...                16.78                244.7   \n",
       "1             27.47   ...                16.62                254.4   \n",
       "2             41.38   ...                10.30                162.6   \n",
       "3             50.90   ...                 5.26                196.9   \n",
       "4             28.34   ...                12.61                186.9   \n",
       "\n",
       "   total night calls  total night charge  total intl minutes  \\\n",
       "0                 91               11.01                10.0   \n",
       "1                103               11.45                13.7   \n",
       "2                104                7.32                12.2   \n",
       "3                 89                8.86                 6.6   \n",
       "4                121                8.41                10.1   \n",
       "\n",
       "   total intl calls  total intl charge  number customer service calls  \\\n",
       "0                 3               2.70                              1   \n",
       "1                 3               3.70                              1   \n",
       "2                 5               3.29                              0   \n",
       "3                 7               1.78                              2   \n",
       "4                 3               2.73                              3   \n",
       "\n",
       "     Churn  isTrain  \n",
       "0   False.        1  \n",
       "1   False.        1  \n",
       "2   False.        1  \n",
       "3   False.        1  \n",
       "4   False.        1  \n",
       "\n",
       "[5 rows x 22 columns]"
      ]
     },
     "execution_count": 8,
     "metadata": {},
     "output_type": "execute_result"
    }
   ],
   "source": [
    "data.head()"
   ]
  },
  {
   "cell_type": "markdown",
   "metadata": {},
   "source": [
    "<h2>Preparing and Cleaning data</h2>"
   ]
  },
  {
   "cell_type": "code",
   "execution_count": 9,
   "metadata": {},
   "outputs": [
    {
     "data": {
      "text/html": [
       "<div>\n",
       "<style scoped>\n",
       "    .dataframe tbody tr th:only-of-type {\n",
       "        vertical-align: middle;\n",
       "    }\n",
       "\n",
       "    .dataframe tbody tr th {\n",
       "        vertical-align: top;\n",
       "    }\n",
       "\n",
       "    .dataframe thead th {\n",
       "        text-align: right;\n",
       "    }\n",
       "</style>\n",
       "<table border=\"1\" class=\"dataframe\">\n",
       "  <thead>\n",
       "    <tr style=\"text-align: right;\">\n",
       "      <th></th>\n",
       "      <th>Variables</th>\n",
       "      <th>Missing_percentage</th>\n",
       "    </tr>\n",
       "  </thead>\n",
       "  <tbody>\n",
       "    <tr>\n",
       "      <th>0</th>\n",
       "      <td>state</td>\n",
       "      <td>0</td>\n",
       "    </tr>\n",
       "    <tr>\n",
       "      <th>1</th>\n",
       "      <td>account length</td>\n",
       "      <td>0</td>\n",
       "    </tr>\n",
       "    <tr>\n",
       "      <th>2</th>\n",
       "      <td>area code</td>\n",
       "      <td>0</td>\n",
       "    </tr>\n",
       "    <tr>\n",
       "      <th>3</th>\n",
       "      <td>phone number</td>\n",
       "      <td>0</td>\n",
       "    </tr>\n",
       "    <tr>\n",
       "      <th>4</th>\n",
       "      <td>international plan</td>\n",
       "      <td>0</td>\n",
       "    </tr>\n",
       "    <tr>\n",
       "      <th>5</th>\n",
       "      <td>voice mail plan</td>\n",
       "      <td>0</td>\n",
       "    </tr>\n",
       "    <tr>\n",
       "      <th>6</th>\n",
       "      <td>number vmail messages</td>\n",
       "      <td>0</td>\n",
       "    </tr>\n",
       "    <tr>\n",
       "      <th>7</th>\n",
       "      <td>total day minutes</td>\n",
       "      <td>0</td>\n",
       "    </tr>\n",
       "    <tr>\n",
       "      <th>8</th>\n",
       "      <td>total day calls</td>\n",
       "      <td>0</td>\n",
       "    </tr>\n",
       "    <tr>\n",
       "      <th>9</th>\n",
       "      <td>total day charge</td>\n",
       "      <td>0</td>\n",
       "    </tr>\n",
       "    <tr>\n",
       "      <th>10</th>\n",
       "      <td>total eve minutes</td>\n",
       "      <td>0</td>\n",
       "    </tr>\n",
       "    <tr>\n",
       "      <th>11</th>\n",
       "      <td>total eve calls</td>\n",
       "      <td>0</td>\n",
       "    </tr>\n",
       "    <tr>\n",
       "      <th>12</th>\n",
       "      <td>total eve charge</td>\n",
       "      <td>0</td>\n",
       "    </tr>\n",
       "    <tr>\n",
       "      <th>13</th>\n",
       "      <td>total night minutes</td>\n",
       "      <td>0</td>\n",
       "    </tr>\n",
       "    <tr>\n",
       "      <th>14</th>\n",
       "      <td>total night calls</td>\n",
       "      <td>0</td>\n",
       "    </tr>\n",
       "    <tr>\n",
       "      <th>15</th>\n",
       "      <td>total night charge</td>\n",
       "      <td>0</td>\n",
       "    </tr>\n",
       "    <tr>\n",
       "      <th>16</th>\n",
       "      <td>total intl minutes</td>\n",
       "      <td>0</td>\n",
       "    </tr>\n",
       "    <tr>\n",
       "      <th>17</th>\n",
       "      <td>total intl calls</td>\n",
       "      <td>0</td>\n",
       "    </tr>\n",
       "    <tr>\n",
       "      <th>18</th>\n",
       "      <td>total intl charge</td>\n",
       "      <td>0</td>\n",
       "    </tr>\n",
       "    <tr>\n",
       "      <th>19</th>\n",
       "      <td>number customer service calls</td>\n",
       "      <td>0</td>\n",
       "    </tr>\n",
       "    <tr>\n",
       "      <th>20</th>\n",
       "      <td>Churn</td>\n",
       "      <td>0</td>\n",
       "    </tr>\n",
       "    <tr>\n",
       "      <th>21</th>\n",
       "      <td>isTrain</td>\n",
       "      <td>0</td>\n",
       "    </tr>\n",
       "  </tbody>\n",
       "</table>\n",
       "</div>"
      ],
      "text/plain": [
       "                        Variables  Missing_percentage\n",
       "0                           state                   0\n",
       "1                  account length                   0\n",
       "2                       area code                   0\n",
       "3                    phone number                   0\n",
       "4              international plan                   0\n",
       "5                 voice mail plan                   0\n",
       "6           number vmail messages                   0\n",
       "7               total day minutes                   0\n",
       "8                 total day calls                   0\n",
       "9                total day charge                   0\n",
       "10              total eve minutes                   0\n",
       "11                total eve calls                   0\n",
       "12               total eve charge                   0\n",
       "13            total night minutes                   0\n",
       "14              total night calls                   0\n",
       "15             total night charge                   0\n",
       "16             total intl minutes                   0\n",
       "17               total intl calls                   0\n",
       "18              total intl charge                   0\n",
       "19  number customer service calls                   0\n",
       "20                          Churn                   0\n",
       "21                        isTrain                   0"
      ]
     },
     "execution_count": 9,
     "metadata": {},
     "output_type": "execute_result"
    }
   ],
   "source": [
    "#check missing values in the dataframe\n",
    "missing_val = pd.DataFrame(data.isnull().sum())\n",
    "#Reset index\n",
    "missing_val = missing_val.reset_index()\n",
    "#Rename variable\n",
    "missing_val = missing_val.rename(columns = {'index': 'Variables', 0: 'Missing_percentage'})\n",
    "missing_val"
   ]
  },
  {
   "cell_type": "markdown",
   "metadata": {},
   "source": [
    "<h2>Data Exploration and Visualization</h2>"
   ]
  },
  {
   "cell_type": "code",
   "execution_count": 10,
   "metadata": {},
   "outputs": [],
   "source": [
    "#Data exploration\n",
    "state_val=data['state'].nunique()\n",
    "accountlen_val=data['account length'].nunique()\n",
    "areacode_val=data['area code'].nunique()\n",
    "phnum_val=data['phone number'].nunique()\n",
    "intlplan_val=data['international plan'].nunique()\n",
    "vmplan_val=data['voice mail plan'].nunique()\n",
    "vmmsg_val=data['number vmail messages'].nunique()\n",
    "daymin_val=data['total day minutes'].nunique()\n",
    "daycalls_val=data['total day calls'].nunique()\n",
    "daycharge_val=data['total day charge'].nunique()\n",
    "custservicecall_val=data['number customer service calls'].nunique()"
   ]
  },
  {
   "cell_type": "code",
   "execution_count": 11,
   "metadata": {
    "scrolled": true
   },
   "outputs": [
    {
     "name": "stdout",
     "output_type": "stream",
     "text": [
      " False.    4293\n",
      " True.      707\n",
      "Name: Churn, dtype: int64\n"
     ]
    },
    {
     "data": {
      "text/plain": [
       "Text(0, 0.5, 'Customer Count')"
      ]
     },
     "execution_count": 11,
     "metadata": {},
     "output_type": "execute_result"
    },
    {
     "data": {
      "image/png": "[encoded data removed]",
      "text/plain": [
       "<Figure size 432x288 with 1 Axes>"
      ]
     },
     "metadata": {},
     "output_type": "display_data"
    }
   ],
   "source": [
    "#Visualization of target columnn\n",
    "print(data.Churn.value_counts())\n",
    "plt = data.Churn.value_counts().plot('bar')\n",
    "plt.set_xlabel('Customer Churn')\n",
    "plt.set_ylabel('Customer Count')\n",
    "#Data is imbalanced. Less number of customers churn"
   ]
  },
  {
   "cell_type": "code",
   "execution_count": 12,
   "metadata": {},
   "outputs": [
    {
     "name": "stdout",
     "output_type": "stream",
     "text": [
      "Proportion: 6.07 : 1\n"
     ]
    }
   ],
   "source": [
    "print('Proportion:', round(4293 / 707, 2), ': 1')"
   ]
  },
  {
   "cell_type": "code",
   "execution_count": 13,
   "metadata": {},
   "outputs": [
    {
     "data": {
      "text/plain": [
       "<matplotlib.axes._subplots.AxesSubplot at 0x17a816b1630>"
      ]
     },
     "execution_count": 13,
     "metadata": {},
     "output_type": "execute_result"
    },
    {
     "data": {
      "image/png": "[encoded data removed]",
      "text/plain": [
       "<Figure size 576x576 with 1 Axes>"
      ]
     },
     "metadata": {},
     "output_type": "display_data"
    }
   ],
   "source": [
    "#Analysis of Categorical predictors using Visualization\n",
    "#effect of area code on Churn\n",
    "areacode_vs_churn=pd.crosstab(index=data[\"area code\"], \n",
    "                           columns=data[\"Churn\"])\n",
    "#Visualization\n",
    "areacode_vs_churn.plot(kind=\"bar\", \n",
    "                 figsize=(8,8),\n",
    "                 stacked=True)\n"
   ]
  },
  {
   "cell_type": "code",
   "execution_count": 14,
   "metadata": {},
   "outputs": [
    {
     "data": {
      "text/plain": [
       "<matplotlib.axes._subplots.AxesSubplot at 0x17a81764668>"
      ]
     },
     "execution_count": 14,
     "metadata": {},
     "output_type": "execute_result"
    },
    {
     "data": {
      "image/png": "[encoded data removed]",
      "text/plain": [
       "<Figure size 1152x1152 with 1 Axes>"
      ]
     },
     "metadata": {},
     "output_type": "display_data"
    }
   ],
   "source": [
    "#effect of state on Churn\n",
    "state_vs_churn=pd.crosstab(index=data[\"state\"], \n",
    "                           columns=data[\"Churn\"])\n",
    "#Visualization\n",
    "state_vs_churn.plot(kind=\"bar\", \n",
    "                 figsize=(16,16),\n",
    "                 stacked=True)\n"
   ]
  },
  {
   "cell_type": "code",
   "execution_count": 15,
   "metadata": {},
   "outputs": [
    {
     "data": {
      "text/plain": [
       "<matplotlib.axes._subplots.AxesSubplot at 0x17a820c0048>"
      ]
     },
     "execution_count": 15,
     "metadata": {},
     "output_type": "execute_result"
    },
    {
     "data": {
      "image/png": "[encoded data removed]",
      "text/plain": [
       "<Figure size 576x576 with 1 Axes>"
      ]
     },
     "metadata": {},
     "output_type": "display_data"
    }
   ],
   "source": [
    "#effect of voice plan on Churn\n",
    "voiceplan_vs_churn=pd.crosstab(index=data[\"voice mail plan\"], \n",
    "                           columns=data[\"Churn\"])\n",
    "#Visualization\n",
    "voiceplan_vs_churn.plot(kind=\"bar\", \n",
    "                 figsize=(8,8),\n",
    "                 stacked=True)"
   ]
  },
  {
   "cell_type": "code",
   "execution_count": 16,
   "metadata": {},
   "outputs": [
    {
     "data": {
      "text/plain": [
       "<matplotlib.axes._subplots.AxesSubplot at 0x17a81b90f60>"
      ]
     },
     "execution_count": 16,
     "metadata": {},
     "output_type": "execute_result"
    },
    {
     "data": {
      "image/png": "[encoded data removed]",
      "text/plain": [
       "<Figure size 576x576 with 1 Axes>"
      ]
     },
     "metadata": {},
     "output_type": "display_data"
    }
   ],
   "source": [
    "#effect of international plan on Churn\n",
    "intlplan_vs_churn=pd.crosstab(index=data[\"international plan\"], \n",
    "                           columns=data[\"Churn\"])\n",
    "#Visualization\n",
    "intlplan_vs_churn.plot(kind=\"bar\", \n",
    "                 figsize=(8,8),\n",
    "                 stacked=True)\n"
   ]
  },
  {
   "cell_type": "code",
   "execution_count": 17,
   "metadata": {},
   "outputs": [
    {
     "data": {
      "text/plain": [
       "<matplotlib.axes._subplots.AxesSubplot at 0x17a81bd0da0>"
      ]
     },
     "execution_count": 17,
     "metadata": {},
     "output_type": "execute_result"
    },
    {
     "data": {
      "image/png": "[encoded data removed]",
      "text/plain": [
       "<Figure size 576x576 with 1 Axes>"
      ]
     },
     "metadata": {},
     "output_type": "display_data"
    }
   ],
   "source": [
    "#effect of number of service calls on Churn\n",
    "servicecall_vs_churn=pd.crosstab(index=data[\"number customer service calls\"], \n",
    "                           columns=data[\"Churn\"])\n",
    "servicecall_vs_churn\n",
    "servicecall_vs_churn.plot(kind=\"bar\", \n",
    "                 figsize=(8,8),\n",
    "                 stacked=True)"
   ]
  },
  {
   "cell_type": "code",
   "execution_count": 20,
   "metadata": {},
   "outputs": [
    {
     "name": "stdout",
     "output_type": "stream",
     "text": [
      " False.    4293\n",
      " True.      707\n",
      "Name: Churn, dtype: int64\n"
     ]
    }
   ],
   "source": [
    "print(data.Churn.value_counts())"
   ]
  },
  {
   "cell_type": "markdown",
   "metadata": {},
   "source": [
    "<h4>Outlier Analysis</h4>"
   ]
  },
  {
   "cell_type": "code",
   "execution_count": null,
   "metadata": {},
   "outputs": [],
   "source": [
    "#Since the case involves churn prediction, outliers provide some imporatt insights in predicting the minority class.\n",
    "#Hence we are not removing outliers from the data."
   ]
  },
  {
   "cell_type": "code",
   "execution_count": null,
   "metadata": {},
   "outputs": [],
   "source": [
    "#Else we may remove the outliers as:\n",
    "#capping and flooring\n",
    "#nncol=['number vmail messages','account length','total day minutes','total day charge','total eve charge','total night charge','total intl charge','total day calls','total eve minutes','total eve calls','total night minutes','total night calls','total intl minutes','total intl calls','number customer service calls']\n",
    "#for i in nncol:\n",
    " #   print(i)\n",
    "  #  q75, q25= np.percentile(data.loc[:,i], [75 ,25])\n",
    "   # iqr = q75 - q25\n",
    "   # min = q25 - (iqr*1.5)\n",
    "    #max = q75 + (iqr*1.5)\n",
    "    #print(min)\n",
    "    #print(max)\n",
    "    #data.loc[data[i] < min,:i] = min\n",
    "    #data.loc[data[i] > max,:i] = max\n",
    "\n",
    "    "
   ]
  },
  {
   "cell_type": "code",
   "execution_count": 21,
   "metadata": {},
   "outputs": [
    {
     "name": "stdout",
     "output_type": "stream",
     "text": [
      "1    3333\n",
      "0    1667\n",
      "Name: isTrain, dtype: int64\n"
     ]
    }
   ],
   "source": [
    "print(data.isTrain.value_counts())"
   ]
  },
  {
   "cell_type": "markdown",
   "metadata": {},
   "source": [
    "<h2>Feature Selection</h2>"
   ]
  },
  {
   "cell_type": "code",
   "execution_count": 22,
   "metadata": {},
   "outputs": [
    {
     "data": {
      "text/plain": [
       "Index(['account length', 'area code', 'number vmail messages',\n",
       "       'total day minutes', 'total day calls', 'total day charge',\n",
       "       'total eve minutes', 'total eve calls', 'total eve charge',\n",
       "       'total night minutes', 'total night calls', 'total night charge',\n",
       "       'total intl minutes', 'total intl calls', 'total intl charge',\n",
       "       'number customer service calls', 'isTrain'],\n",
       "      dtype='object')"
      ]
     },
     "execution_count": 22,
     "metadata": {},
     "output_type": "execute_result"
    }
   ],
   "source": [
    "#Correlation analysis\n",
    "#numcol holds the names of numeric variables\n",
    "num_columns=data.select_dtypes(exclude=['object','bool'])\n",
    "numcol=num_columns.columns\n",
    "numcol\n",
    "#data[numcol].head()"
   ]
  },
  {
   "cell_type": "code",
   "execution_count": 23,
   "metadata": {},
   "outputs": [
    {
     "data": {
      "text/plain": [
       "pandas.core.frame.DataFrame"
      ]
     },
     "execution_count": 23,
     "metadata": {},
     "output_type": "execute_result"
    }
   ],
   "source": [
    "type(num_columns)"
   ]
  },
  {
   "cell_type": "code",
   "execution_count": 24,
   "metadata": {},
   "outputs": [],
   "source": [
    "def heatMap(df):\n",
    "    #Create Correlation df\n",
    "    corr_matrix = df.corr()\n",
    "    #Plot figsize\n",
    "    fig,ax =plt.subplots(figsize=(12, 10))\n",
    "    #Generate Color Map, red & blue\n",
    "    colormap = sns.diverging_palette(220, 10, as_cmap=True)\n",
    "    #Generate Heat Map, allow annotations and place floats in map\n",
    "    sns.heatmap(corr_matrix, cmap=colormap, annot=True, fmt=\".2f\")\n",
    "    #Apply xticks\n",
    "    plt.xticks(range(len(corr_matrix.columns)), corr_matrix.columns);\n",
    "    #Apply yticks\n",
    "    plt.yticks(range(len(corr_matrix.columns)), corr_matrix.columns)\n",
    "    #show plot\n",
    "    plt.show()\n",
    "    return corr_matrix"
   ]
  },
  {
   "cell_type": "code",
   "execution_count": 25,
   "metadata": {},
   "outputs": [
    {
     "ename": "AttributeError",
     "evalue": "'AxesSubplot' object has no attribute 'subplots'",
     "output_type": "error",
     "traceback": [
      "\u001b[1;31m---------------------------------------------------------------------------\u001b[0m",
      "\u001b[1;31mAttributeError\u001b[0m                            Traceback (most recent call last)",
      "\u001b[1;32m<ipython-input-25-101e75cc95f2>\u001b[0m in \u001b[0;36m<module>\u001b[1;34m()\u001b[0m\n\u001b[1;32m----> 1\u001b[1;33m \u001b[0mcorr_matrix\u001b[0m\u001b[1;33m=\u001b[0m\u001b[0mheatMap\u001b[0m\u001b[1;33m(\u001b[0m\u001b[0mdata\u001b[0m\u001b[1;33m[\u001b[0m\u001b[0mnumcol\u001b[0m\u001b[1;33m]\u001b[0m\u001b[1;33m)\u001b[0m\u001b[1;33m\u001b[0m\u001b[0m\n\u001b[0m\u001b[0;32m      2\u001b[0m \u001b[1;31m#shows there exists high correlation between\u001b[0m\u001b[1;33m\u001b[0m\u001b[1;33m\u001b[0m\u001b[0m\n\u001b[0;32m      3\u001b[0m \u001b[1;31m#a)total day minutes and  total day charge\u001b[0m\u001b[1;33m\u001b[0m\u001b[1;33m\u001b[0m\u001b[0m\n\u001b[0;32m      4\u001b[0m \u001b[1;31m#b)total eve minutes and total eve charge\u001b[0m\u001b[1;33m\u001b[0m\u001b[1;33m\u001b[0m\u001b[0m\n\u001b[0;32m      5\u001b[0m \u001b[1;31m#c)total night minutes and total night charge\u001b[0m\u001b[1;33m\u001b[0m\u001b[1;33m\u001b[0m\u001b[0m\n",
      "\u001b[1;32m<ipython-input-24-f2ab5a5721f2>\u001b[0m in \u001b[0;36mheatMap\u001b[1;34m(df)\u001b[0m\n\u001b[0;32m      3\u001b[0m     \u001b[0mcorr_matrix\u001b[0m \u001b[1;33m=\u001b[0m \u001b[0mdf\u001b[0m\u001b[1;33m.\u001b[0m\u001b[0mcorr\u001b[0m\u001b[1;33m(\u001b[0m\u001b[1;33m)\u001b[0m\u001b[1;33m\u001b[0m\u001b[0m\n\u001b[0;32m      4\u001b[0m     \u001b[1;31m#Plot figsize\u001b[0m\u001b[1;33m\u001b[0m\u001b[1;33m\u001b[0m\u001b[0m\n\u001b[1;32m----> 5\u001b[1;33m     \u001b[0mfig\u001b[0m\u001b[1;33m,\u001b[0m\u001b[0max\u001b[0m \u001b[1;33m=\u001b[0m\u001b[0mplt\u001b[0m\u001b[1;33m.\u001b[0m\u001b[0msubplots\u001b[0m\u001b[1;33m(\u001b[0m\u001b[0mfigsize\u001b[0m\u001b[1;33m=\u001b[0m\u001b[1;33m(\u001b[0m\u001b[1;36m12\u001b[0m\u001b[1;33m,\u001b[0m \u001b[1;36m10\u001b[0m\u001b[1;33m)\u001b[0m\u001b[1;33m)\u001b[0m\u001b[1;33m\u001b[0m\u001b[0m\n\u001b[0m\u001b[0;32m      6\u001b[0m     \u001b[1;31m#Generate Color Map, red & blue\u001b[0m\u001b[1;33m\u001b[0m\u001b[1;33m\u001b[0m\u001b[0m\n\u001b[0;32m      7\u001b[0m     \u001b[0mcolormap\u001b[0m \u001b[1;33m=\u001b[0m \u001b[0msns\u001b[0m\u001b[1;33m.\u001b[0m\u001b[0mdiverging_palette\u001b[0m\u001b[1;33m(\u001b[0m\u001b[1;36m220\u001b[0m\u001b[1;33m,\u001b[0m \u001b[1;36m10\u001b[0m\u001b[1;33m,\u001b[0m \u001b[0mas_cmap\u001b[0m\u001b[1;33m=\u001b[0m\u001b[1;32mTrue\u001b[0m\u001b[1;33m)\u001b[0m\u001b[1;33m\u001b[0m\u001b[0m\n",
      "\u001b[1;31mAttributeError\u001b[0m: 'AxesSubplot' object has no attribute 'subplots'"
     ]
    }
   ],
   "source": [
    "corr_matrix=heatMap(data[numcol])\n",
    "#shows there exists high correlation between\n",
    "#a)total day minutes and  total day charge\n",
    "#b)total eve minutes and total eve charge\n",
    "#c)total night minutes and total night charge\n",
    "#d)total international minutes and total international charge"
   ]
  },
  {
   "cell_type": "code",
   "execution_count": 26,
   "metadata": {},
   "outputs": [],
   "source": [
    "#OR to show heatmap....matplotlib causing errors\n",
    "#corr_matrix = data[numcol].corr()\n",
    "#fig,ax =plt.subplots(figsize=(12, 10))\n",
    "#colormap = sns.diverging_palette(220, 10, as_cmap=True)\n",
    "#sns.heatmap(corr_matrix, cmap=colormap,annot=True, fmt=\".2f\")\n",
    "#plt.show"
   ]
  },
  {
   "cell_type": "code",
   "execution_count": 27,
   "metadata": {},
   "outputs": [],
   "source": [
    "# Select upper triangle of correlation matrix\n",
    "corr_matrix = data[numcol].corr()\n",
    "upper = corr_matrix.where(np.triu(np.ones(corr_matrix.shape), k=1).astype(np.bool))\n",
    "\n",
    "# Find index of feature columns with correlation greater than 0.95\n",
    "to_drop = [column for column in upper.columns if any(upper[column] > 0.95)]"
   ]
  },
  {
   "cell_type": "code",
   "execution_count": 28,
   "metadata": {},
   "outputs": [
    {
     "data": {
      "text/plain": [
       "['total day charge',\n",
       " 'total eve charge',\n",
       " 'total night charge',\n",
       " 'total intl charge']"
      ]
     },
     "execution_count": 28,
     "metadata": {},
     "output_type": "execute_result"
    }
   ],
   "source": [
    "to_drop"
   ]
  },
  {
   "cell_type": "code",
   "execution_count": 29,
   "metadata": {},
   "outputs": [],
   "source": [
    "#chi-square test\n",
    "#cat_names hold categorical variables\n",
    "cat_names=['state','area code','international plan','voice mail plan']\n",
    "cat_data=data[cat_names]"
   ]
  },
  {
   "cell_type": "code",
   "execution_count": 30,
   "metadata": {},
   "outputs": [
    {
     "name": "stdout",
     "output_type": "stream",
     "text": [
      "state\n",
      "7.850836224371827e-05\n",
      "area code\n",
      "0.7546581385329686\n",
      "international plan\n",
      "1.9443947474998577e-74\n",
      "voice mail plan\n",
      "7.164501780988496e-15\n"
     ]
    }
   ],
   "source": [
    "for i in cat_names:\n",
    "    print(i)\n",
    "    chi2, p, dof, ex = chi2_contingency(pd.crosstab(data['Churn'], data[i]))\n",
    "    print(p)"
   ]
  },
  {
   "cell_type": "code",
   "execution_count": 31,
   "metadata": {},
   "outputs": [],
   "source": [
    "#drop the categorical variable for which p-value> 0.05\n",
    "#Null hypo, H0: predictor and target variable are independent\n",
    "#Reject H0 when p-value <0.05 (alpha value), hence select (drop) those variables for which p-value<0.05 \n",
    "#Drop phone number as it is an irrelevant variable for churn prediction\n",
    "drop_var=['area code','phone number']+to_drop\n",
    "#drop_var"
   ]
  },
  {
   "cell_type": "code",
   "execution_count": 32,
   "metadata": {},
   "outputs": [],
   "source": [
    "#drop redundant variables\n",
    "data_copy=data.copy()\n",
    "data = data.drop(drop_var, axis=1)"
   ]
  },
  {
   "cell_type": "code",
   "execution_count": 33,
   "metadata": {},
   "outputs": [
    {
     "data": {
      "text/html": [
       "<div>\n",
       "<style scoped>\n",
       "    .dataframe tbody tr th:only-of-type {\n",
       "        vertical-align: middle;\n",
       "    }\n",
       "\n",
       "    .dataframe tbody tr th {\n",
       "        vertical-align: top;\n",
       "    }\n",
       "\n",
       "    .dataframe thead th {\n",
       "        text-align: right;\n",
       "    }\n",
       "</style>\n",
       "<table border=\"1\" class=\"dataframe\">\n",
       "  <thead>\n",
       "    <tr style=\"text-align: right;\">\n",
       "      <th></th>\n",
       "      <th>state</th>\n",
       "      <th>account length</th>\n",
       "      <th>international plan</th>\n",
       "      <th>voice mail plan</th>\n",
       "      <th>number vmail messages</th>\n",
       "      <th>total day minutes</th>\n",
       "      <th>total day calls</th>\n",
       "      <th>total eve minutes</th>\n",
       "      <th>total eve calls</th>\n",
       "      <th>total night minutes</th>\n",
       "      <th>total night calls</th>\n",
       "      <th>total intl minutes</th>\n",
       "      <th>total intl calls</th>\n",
       "      <th>number customer service calls</th>\n",
       "      <th>Churn</th>\n",
       "      <th>isTrain</th>\n",
       "    </tr>\n",
       "  </thead>\n",
       "  <tbody>\n",
       "    <tr>\n",
       "      <th>0</th>\n",
       "      <td>KS</td>\n",
       "      <td>128</td>\n",
       "      <td>no</td>\n",
       "      <td>yes</td>\n",
       "      <td>25</td>\n",
       "      <td>265.1</td>\n",
       "      <td>110</td>\n",
       "      <td>197.4</td>\n",
       "      <td>99</td>\n",
       "      <td>244.7</td>\n",
       "      <td>91</td>\n",
       "      <td>10.0</td>\n",
       "      <td>3</td>\n",
       "      <td>1</td>\n",
       "      <td>False.</td>\n",
       "      <td>1</td>\n",
       "    </tr>\n",
       "    <tr>\n",
       "      <th>1</th>\n",
       "      <td>OH</td>\n",
       "      <td>107</td>\n",
       "      <td>no</td>\n",
       "      <td>yes</td>\n",
       "      <td>26</td>\n",
       "      <td>161.6</td>\n",
       "      <td>123</td>\n",
       "      <td>195.5</td>\n",
       "      <td>103</td>\n",
       "      <td>254.4</td>\n",
       "      <td>103</td>\n",
       "      <td>13.7</td>\n",
       "      <td>3</td>\n",
       "      <td>1</td>\n",
       "      <td>False.</td>\n",
       "      <td>1</td>\n",
       "    </tr>\n",
       "    <tr>\n",
       "      <th>2</th>\n",
       "      <td>NJ</td>\n",
       "      <td>137</td>\n",
       "      <td>no</td>\n",
       "      <td>no</td>\n",
       "      <td>0</td>\n",
       "      <td>243.4</td>\n",
       "      <td>114</td>\n",
       "      <td>121.2</td>\n",
       "      <td>110</td>\n",
       "      <td>162.6</td>\n",
       "      <td>104</td>\n",
       "      <td>12.2</td>\n",
       "      <td>5</td>\n",
       "      <td>0</td>\n",
       "      <td>False.</td>\n",
       "      <td>1</td>\n",
       "    </tr>\n",
       "    <tr>\n",
       "      <th>3</th>\n",
       "      <td>OH</td>\n",
       "      <td>84</td>\n",
       "      <td>yes</td>\n",
       "      <td>no</td>\n",
       "      <td>0</td>\n",
       "      <td>299.4</td>\n",
       "      <td>71</td>\n",
       "      <td>61.9</td>\n",
       "      <td>88</td>\n",
       "      <td>196.9</td>\n",
       "      <td>89</td>\n",
       "      <td>6.6</td>\n",
       "      <td>7</td>\n",
       "      <td>2</td>\n",
       "      <td>False.</td>\n",
       "      <td>1</td>\n",
       "    </tr>\n",
       "    <tr>\n",
       "      <th>4</th>\n",
       "      <td>OK</td>\n",
       "      <td>75</td>\n",
       "      <td>yes</td>\n",
       "      <td>no</td>\n",
       "      <td>0</td>\n",
       "      <td>166.7</td>\n",
       "      <td>113</td>\n",
       "      <td>148.3</td>\n",
       "      <td>122</td>\n",
       "      <td>186.9</td>\n",
       "      <td>121</td>\n",
       "      <td>10.1</td>\n",
       "      <td>3</td>\n",
       "      <td>3</td>\n",
       "      <td>False.</td>\n",
       "      <td>1</td>\n",
       "    </tr>\n",
       "  </tbody>\n",
       "</table>\n",
       "</div>"
      ],
      "text/plain": [
       "  state  account length international plan voice mail plan  \\\n",
       "0    KS             128                 no             yes   \n",
       "1    OH             107                 no             yes   \n",
       "2    NJ             137                 no              no   \n",
       "3    OH              84                yes              no   \n",
       "4    OK              75                yes              no   \n",
       "\n",
       "   number vmail messages  total day minutes  total day calls  \\\n",
       "0                     25              265.1              110   \n",
       "1                     26              161.6              123   \n",
       "2                      0              243.4              114   \n",
       "3                      0              299.4               71   \n",
       "4                      0              166.7              113   \n",
       "\n",
       "   total eve minutes  total eve calls  total night minutes  total night calls  \\\n",
       "0              197.4               99                244.7                 91   \n",
       "1              195.5              103                254.4                103   \n",
       "2              121.2              110                162.6                104   \n",
       "3               61.9               88                196.9                 89   \n",
       "4              148.3              122                186.9                121   \n",
       "\n",
       "   total intl minutes  total intl calls  number customer service calls  \\\n",
       "0                10.0                 3                              1   \n",
       "1                13.7                 3                              1   \n",
       "2                12.2                 5                              0   \n",
       "3                 6.6                 7                              2   \n",
       "4                10.1                 3                              3   \n",
       "\n",
       "     Churn  isTrain  \n",
       "0   False.        1  \n",
       "1   False.        1  \n",
       "2   False.        1  \n",
       "3   False.        1  \n",
       "4   False.        1  "
      ]
     },
     "execution_count": 33,
     "metadata": {},
     "output_type": "execute_result"
    }
   ],
   "source": [
    "data.head()"
   ]
  },
  {
   "cell_type": "code",
   "execution_count": 34,
   "metadata": {},
   "outputs": [
    {
     "data": {
      "text/plain": [
       "(5000, 16)"
      ]
     },
     "execution_count": 34,
     "metadata": {},
     "output_type": "execute_result"
    }
   ],
   "source": [
    "data.shape"
   ]
  },
  {
   "cell_type": "code",
   "execution_count": 35,
   "metadata": {},
   "outputs": [
    {
     "name": "stdout",
     "output_type": "stream",
     "text": [
      "state :\n",
      "WV    158\n",
      "MN    125\n",
      "AL    124\n",
      "ID    119\n",
      "VA    118\n",
      "OH    116\n",
      "TX    116\n",
      "WY    115\n",
      "OR    114\n",
      "NY    114\n",
      "NJ    112\n",
      "UT    112\n",
      "WI    106\n",
      "MA    103\n",
      "MI    103\n",
      "ME    103\n",
      "MD    102\n",
      "VT    101\n",
      "MT     99\n",
      "MS     99\n",
      "RI     99\n",
      "KY     99\n",
      "KS     99\n",
      "CT     99\n",
      "WA     98\n",
      "IN     98\n",
      "CO     96\n",
      "NH     95\n",
      "DE     94\n",
      "MO     93\n",
      "AR     92\n",
      "NM     91\n",
      "SC     91\n",
      "NC     91\n",
      "OK     90\n",
      "NV     90\n",
      "FL     90\n",
      "AZ     89\n",
      "TN     89\n",
      "NE     88\n",
      "IL     88\n",
      "DC     88\n",
      "ND     88\n",
      "HI     86\n",
      "SD     85\n",
      "GA     83\n",
      "LA     82\n",
      "PA     77\n",
      "AK     72\n",
      "IA     69\n",
      "CA     52\n",
      "Name: state, dtype: int64 \n",
      "\n",
      "international plan :\n",
      " no     4527\n",
      " yes     473\n",
      "Name: international plan, dtype: int64 \n",
      "\n",
      "voice mail plan :\n",
      " no     3677\n",
      " yes    1323\n",
      "Name: voice mail plan, dtype: int64 \n",
      "\n"
     ]
    }
   ],
   "source": [
    "#explore categorical variables to convert them to numeric labels to feed them to ML algorithms\n",
    "cols=['state','international plan','voice mail plan']\n",
    "for name in cols:\n",
    "    print(name,':')\n",
    "    print(data[name].value_counts(),'\\n')"
   ]
  },
  {
   "cell_type": "code",
   "execution_count": 36,
   "metadata": {},
   "outputs": [
    {
     "data": {
      "text/plain": [
       "(5000, 15)"
      ]
     },
     "execution_count": 36,
     "metadata": {},
     "output_type": "execute_result"
    }
   ],
   "source": [
    "#drop variable state as it has numerous levels\n",
    "data=data.drop(['state'],axis=1)\n",
    "data.shape"
   ]
  },
  {
   "cell_type": "code",
   "execution_count": 37,
   "metadata": {},
   "outputs": [],
   "source": [
    "#assign numeric labels to categorical variables: international plan and voice mail plan\n",
    "num=LabelEncoder()\n",
    "data['international plan']=num.fit_transform(data['international plan'].astype('str'))\n",
    "data['voice mail plan']=num.fit_transform(data['voice mail plan'].astype('str'))\n",
    "#numeric labels are avoided as they generate labels that have an order like 0,1,2 which affects the model"
   ]
  },
  {
   "cell_type": "code",
   "execution_count": 38,
   "metadata": {},
   "outputs": [
    {
     "name": "stdout",
     "output_type": "stream",
     "text": [
      "<class 'pandas.core.frame.DataFrame'>\n",
      "Int64Index: 5000 entries, 0 to 1666\n",
      "Data columns (total 15 columns):\n",
      "account length                   5000 non-null int64\n",
      "international plan               5000 non-null int64\n",
      "voice mail plan                  5000 non-null int64\n",
      "number vmail messages            5000 non-null int64\n",
      "total day minutes                5000 non-null float64\n",
      "total day calls                  5000 non-null int64\n",
      "total eve minutes                5000 non-null float64\n",
      "total eve calls                  5000 non-null int64\n",
      "total night minutes              5000 non-null float64\n",
      "total night calls                5000 non-null int64\n",
      "total intl minutes               5000 non-null float64\n",
      "total intl calls                 5000 non-null int64\n",
      "number customer service calls    5000 non-null int64\n",
      "Churn                            5000 non-null object\n",
      "isTrain                          5000 non-null int64\n",
      "dtypes: float64(4), int64(10), object(1)\n",
      "memory usage: 625.0+ KB\n"
     ]
    }
   ],
   "source": [
    "data.info()"
   ]
  },
  {
   "cell_type": "code",
   "execution_count": 40,
   "metadata": {},
   "outputs": [],
   "source": [
    "#numeric labels are avoided as they generate labels that have an order like 0,1,2 which affects the model in case of multiple categories\n",
    "#create dummy variables for categorical variables to convert them into numeric type\n",
    "#However we have binary classes so we can use Label Encoding method as well\n",
    "#categorical=['international plan','voice mail plan']\n",
    "#for i in categorical:\n",
    "#    temp = pd.get_dummies(data[i], prefix = i)\n",
    "#    data = data.join(temp)"
   ]
  },
  {
   "cell_type": "code",
   "execution_count": 41,
   "metadata": {},
   "outputs": [],
   "source": [
    "#assign numeric label to target variable using Label Encoder\n",
    "data['Churn']=num.fit_transform(data['Churn'].astype('str'))"
   ]
  },
  {
   "cell_type": "code",
   "execution_count": 42,
   "metadata": {},
   "outputs": [
    {
     "data": {
      "text/plain": [
       "0    4293\n",
       "1     707\n",
       "Name: Churn, dtype: int64"
      ]
     },
     "execution_count": 42,
     "metadata": {},
     "output_type": "execute_result"
    }
   ],
   "source": [
    "data['Churn'].value_counts()"
   ]
  },
  {
   "cell_type": "code",
   "execution_count": 43,
   "metadata": {},
   "outputs": [],
   "source": [
    "#create a copy of data to be used later\n",
    "datacopy=data"
   ]
  },
  {
   "cell_type": "markdown",
   "metadata": {},
   "source": [
    "<h4>Solving target class imbalanced problem</h4>"
   ]
  },
  {
   "cell_type": "code",
   "execution_count": null,
   "metadata": {},
   "outputs": [],
   "source": [
    "#WE ACTALLY CARE ABOUT FALSE NEGATIVE RATE, SENSTIVITY,RECALL"
   ]
  },
  {
   "cell_type": "code",
   "execution_count": 49,
   "metadata": {},
   "outputs": [],
   "source": [
    "#Separate train and test data\n",
    "data=datacopy\n",
    "train=data.loc[(data['isTrain'])==1]\n",
    "test=data.loc[(data['isTrain'])==0]\n"
   ]
  },
  {
   "cell_type": "code",
   "execution_count": 50,
   "metadata": {},
   "outputs": [
    {
     "data": {
      "text/plain": [
       "(3333, 15)"
      ]
     },
     "execution_count": 50,
     "metadata": {},
     "output_type": "execute_result"
    }
   ],
   "source": [
    "train.shape"
   ]
  },
  {
   "cell_type": "code",
   "execution_count": 51,
   "metadata": {},
   "outputs": [
    {
     "name": "stdout",
     "output_type": "stream",
     "text": [
      "0    2850\n",
      "1     483\n",
      "Name: Churn, dtype: int64\n"
     ]
    }
   ],
   "source": [
    "print(train.Churn.value_counts())"
   ]
  },
  {
   "cell_type": "code",
   "execution_count": 52,
   "metadata": {},
   "outputs": [
    {
     "name": "stdout",
     "output_type": "stream",
     "text": [
      "Random under-sampling:\n",
      "1    707\n",
      "0    707\n",
      "Name: Churn, dtype: int64\n"
     ]
    },
    {
     "data": {
      "image/png": "[encoded data removed]",
      "text/plain": [
       "<Figure size 432x288 with 1 Axes>"
      ]
     },
     "metadata": {},
     "output_type": "display_data"
    }
   ],
   "source": [
    "#method 1:Random Under sampling (perfomed on whole data so that train:test ratio not disturbed)\n",
    "\n",
    "# Class count\n",
    "count_class_0, count_class_1 = data.Churn.value_counts()\n",
    "\n",
    "# Divide by class\n",
    "data_class_0 = data[data['Churn'] == 0]\n",
    "data_class_1 = data[data['Churn'] == 1]\n",
    "\n",
    "data_class_0_under = data_class_0.sample(count_class_1)\n",
    "data_test_under = pd.concat([data_class_0_under, data_class_1], axis=0)\n",
    "\n",
    "print('Random under-sampling:')\n",
    "print(data_test_under.Churn.value_counts())\n",
    "data_test_under.Churn.value_counts().plot(kind='bar', title='Count (Churn)');\n",
    "\n",
    "#Now replace data with re-sampled data\n",
    "data=pd.DataFrame(data_test_under)"
   ]
  },
  {
   "cell_type": "code",
   "execution_count": 48,
   "metadata": {},
   "outputs": [
    {
     "name": "stdout",
     "output_type": "stream",
     "text": [
      "Random over-sampling:\n",
      "1    2850\n",
      "0    2850\n",
      "Name: Churn, dtype: int64\n"
     ]
    },
    {
     "data": {
      "image/png": "[encoded data removed]",
      "text/plain": [
       "<Figure size 432x288 with 1 Axes>"
      ]
     },
     "metadata": {},
     "output_type": "display_data"
    }
   ],
   "source": [
    "#Method 2: Random over sampling (performed only on train data to avoid overfitting)\n",
    "#Load original data\n",
    "data=datacopy\n",
    "# Class count\n",
    "count_class_0, count_class_1 = train.Churn.value_counts()\n",
    "\n",
    "# Divide by class\n",
    "data_class_0 = train[train['Churn'] == 0]\n",
    "data_class_1 = train[train['Churn'] == 1]\n",
    "data_class_1_over = data_class_1.sample(count_class_0, replace=True)\n",
    "data_test_over = pd.concat([data_class_0, data_class_1_over], axis=0)\n",
    "\n",
    "print('Random over-sampling:')\n",
    "print(data_test_over.Churn.value_counts())\n",
    "data_test_over.Churn.value_counts().plot(kind='bar', title='Count (Churn)');\n",
    "\n",
    "#replace data with new sample and perform all the steps for classification\n",
    "train=pd.DataFrame(data_test_over)\n",
    "data=train.append(test)"
   ]
  },
  {
   "cell_type": "code",
   "execution_count": 95,
   "metadata": {},
   "outputs": [
    {
     "name": "stdout",
     "output_type": "stream",
     "text": [
      "Removed indexes: [   0    1    2 ... 4997 4998 4999]\n",
      "0    4088\n",
      "1     707\n",
      "Name: Churn, dtype: int64\n"
     ]
    },
    {
     "data": {
      "image/png": "[encoded data removed]",
      "text/plain": [
       "<Figure size 432x288 with 1 Axes>"
      ]
     },
     "metadata": {},
     "output_type": "display_data"
    }
   ],
   "source": [
    "#method 3: Undersampling using Tomek links (performed on whole data)\n",
    "#load original data first\n",
    "data=datacopy\n",
    "cols=list(data.columns)\n",
    "cols1=cols.copy()\n",
    "cols1.remove('Churn')\n",
    "from imblearn.under_sampling import TomekLinks\n",
    "\n",
    "tl = TomekLinks(return_indices=True, ratio='majority')\n",
    "X=data[cols1]\n",
    "y=data['Churn']\n",
    "X_tl, y_tl, id_tl = tl.fit_sample(X, y)\n",
    "X_Tl=pd.DataFrame(data=X_tl,columns=cols1)\n",
    "y_Tl=pd.DataFrame(data=y_tl,columns=['Churn'])\n",
    "data=pd.concat([X_Tl,y_Tl],axis=1,sort=True)\n",
    "print('Removed indexes:', id_tl)\n",
    "print(data.Churn.value_counts())\n",
    "data.Churn.value_counts().plot(kind='bar', title='Count (Churn)');"
   ]
  },
  {
   "cell_type": "code",
   "execution_count": null,
   "metadata": {},
   "outputs": [],
   "source": [
    "#method 4: SMOTE over sampling (performed only on train data)\n",
    "#load original data first\n",
    "data=datacopy\n",
    "from imblearn.over_sampling import SMOTE\n",
    "cols=list(train.columns)\n",
    "cols1=cols.copy()\n",
    "cols1.remove('Churn')\n",
    "\n",
    "X=train[cols1]\n",
    "y=train['Churn']\n",
    "\n",
    "smote = SMOTE(ratio='minority',kind = \"regular\")\n",
    "X_sm, y_sm = smote.fit_sample(X, y)\n",
    "X_Sm=pd.DataFrame(data=X_sm,columns=cols1)\n",
    "\n",
    "X_Sm['international plan']=np.round(X_Sm['international plan'])\n",
    "X_Sm['voice mail plan']=np.round(X_Sm['voice mail plan'])\n",
    "y_Sm=pd.DataFrame(data=y_sm,columns=['Churn'])\n",
    "train=pd.concat([X_Sm, y_Sm],axis=1,sort=True)\n",
    "\n",
    "#generate complete data after resampling train data by combining with test data\n",
    "data=train.append(test,sort=True)\n",
    "#reorder columns\n",
    "data = data.reindex(columns= cols)\n",
    "\n",
    "print('Tomek-links under-sampling:')\n",
    "print(data.Churn.value_counts())\n",
    "\n",
    "data.Churn.value_counts().plot(kind='bar', title='Count (Churn)');"
   ]
  },
  {
   "cell_type": "code",
   "execution_count": null,
   "metadata": {},
   "outputs": [],
   "source": [
    "#Method 5: Combining SMOTE (oversampling) and TOMEK LINKS (undersampling)\n",
    "data=datacopy\n",
    "from imblearn.combine import SMOTETomek\n",
    "\n",
    "cols=list(train.columns)\n",
    "cols1=cols.copy()\n",
    "#cols1.remove('isTrain')\n",
    "cols1.remove('Churn')\n",
    "\n",
    "X=train[cols1]\n",
    "y=train['Churn']\n",
    "smt = SMOTETomek(ratio='auto')\n",
    "X_smt, y_smt = smt.fit_sample(X, y)\n",
    "X_Smt=pd.DataFrame(data=X_smt,columns=cols1)\n",
    "\n",
    "X_Smt['international plan']=np.round(X_Smt['international plan'])\n",
    "X_Smt['voice mail plan']=np.round(X_Smt['voice mail plan'])\n",
    "y_Smt=pd.DataFrame(data=y_smt,columns=['Churn'])\n",
    "train=pd.concat([X_Smt, y_Smt],axis=1,sort=True)\n",
    "#generate complete data after resampling train data by combining with test data\n",
    "data=train.append(test,sort=True)\n",
    "#reorder columns\n",
    "data = data.reindex(columns= cols)\n",
    "\n",
    "print('SMOTE over-sampling:')\n",
    "print(data.Churn.value_counts())\n",
    "\n",
    "data.Churn.value_counts().plot(kind='bar', title='Count (Churn)');"
   ]
  },
  {
   "cell_type": "markdown",
   "metadata": {},
   "source": [
    "<h4> Feature Scaling </h4>\n"
   ]
  },
  {
   "cell_type": "code",
   "execution_count": 53,
   "metadata": {},
   "outputs": [],
   "source": [
    "#Check feature normality\n",
    "#account length\n",
    "#plt.hist(data['account length'], bins='auto')\n",
    "#OR\n",
    "#data.hist(column='account length',bins='auto')\n",
    "#OR\n",
    "#sns.distplot(data['account length'], bins='auto',kde=True)\n",
    "#data['account length'].describe()"
   ]
  },
  {
   "cell_type": "code",
   "execution_count": 54,
   "metadata": {
    "scrolled": true
   },
   "outputs": [
    {
     "name": "stderr",
     "output_type": "stream",
     "text": [
      "C:\\Users\\parul\\Anaconda3\\lib\\site-packages\\matplotlib\\axes\\_axes.py:6499: MatplotlibDeprecationWarning: \n",
      "The 'normed' kwarg was deprecated in Matplotlib 2.1 and will be removed in 3.1. Use 'density' instead.\n",
      "  alternative=\"'density'\", removal=\"3.1\")\n",
      "C:\\Users\\parul\\Anaconda3\\lib\\site-packages\\matplotlib\\axes\\_axes.py:6499: MatplotlibDeprecationWarning: \n",
      "The 'normed' kwarg was deprecated in Matplotlib 2.1 and will be removed in 3.1. Use 'density' instead.\n",
      "  alternative=\"'density'\", removal=\"3.1\")\n",
      "C:\\Users\\parul\\Anaconda3\\lib\\site-packages\\matplotlib\\axes\\_axes.py:6499: MatplotlibDeprecationWarning: \n",
      "The 'normed' kwarg was deprecated in Matplotlib 2.1 and will be removed in 3.1. Use 'density' instead.\n",
      "  alternative=\"'density'\", removal=\"3.1\")\n",
      "C:\\Users\\parul\\Anaconda3\\lib\\site-packages\\matplotlib\\axes\\_axes.py:6499: MatplotlibDeprecationWarning: \n",
      "The 'normed' kwarg was deprecated in Matplotlib 2.1 and will be removed in 3.1. Use 'density' instead.\n",
      "  alternative=\"'density'\", removal=\"3.1\")\n",
      "C:\\Users\\parul\\Anaconda3\\lib\\site-packages\\matplotlib\\axes\\_axes.py:6499: MatplotlibDeprecationWarning: \n",
      "The 'normed' kwarg was deprecated in Matplotlib 2.1 and will be removed in 3.1. Use 'density' instead.\n",
      "  alternative=\"'density'\", removal=\"3.1\")\n",
      "C:\\Users\\parul\\Anaconda3\\lib\\site-packages\\matplotlib\\axes\\_axes.py:6499: MatplotlibDeprecationWarning: \n",
      "The 'normed' kwarg was deprecated in Matplotlib 2.1 and will be removed in 3.1. Use 'density' instead.\n",
      "  alternative=\"'density'\", removal=\"3.1\")\n",
      "C:\\Users\\parul\\Anaconda3\\lib\\site-packages\\matplotlib\\axes\\_axes.py:6499: MatplotlibDeprecationWarning: \n",
      "The 'normed' kwarg was deprecated in Matplotlib 2.1 and will be removed in 3.1. Use 'density' instead.\n",
      "  alternative=\"'density'\", removal=\"3.1\")\n",
      "C:\\Users\\parul\\Anaconda3\\lib\\site-packages\\matplotlib\\axes\\_axes.py:6499: MatplotlibDeprecationWarning: \n",
      "The 'normed' kwarg was deprecated in Matplotlib 2.1 and will be removed in 3.1. Use 'density' instead.\n",
      "  alternative=\"'density'\", removal=\"3.1\")\n",
      "C:\\Users\\parul\\Anaconda3\\lib\\site-packages\\matplotlib\\axes\\_axes.py:6499: MatplotlibDeprecationWarning: \n",
      "The 'normed' kwarg was deprecated in Matplotlib 2.1 and will be removed in 3.1. Use 'density' instead.\n",
      "  alternative=\"'density'\", removal=\"3.1\")\n",
      "C:\\Users\\parul\\Anaconda3\\lib\\site-packages\\matplotlib\\axes\\_axes.py:6499: MatplotlibDeprecationWarning: \n",
      "The 'normed' kwarg was deprecated in Matplotlib 2.1 and will be removed in 3.1. Use 'density' instead.\n",
      "  alternative=\"'density'\", removal=\"3.1\")\n",
      "C:\\Users\\parul\\Anaconda3\\lib\\site-packages\\matplotlib\\axes\\_axes.py:6499: MatplotlibDeprecationWarning: \n",
      "The 'normed' kwarg was deprecated in Matplotlib 2.1 and will be removed in 3.1. Use 'density' instead.\n",
      "  alternative=\"'density'\", removal=\"3.1\")\n"
     ]
    },
    {
     "data": {
      "text/plain": [
       "<matplotlib.axes._subplots.AxesSubplot at 0x17a8360d5f8>"
      ]
     },
     "execution_count": 54,
     "metadata": {},
     "output_type": "execute_result"
    },
    {
     "data": {
      "image/png": "[encoded data removed]",
      "text/plain": [
       "<Figure size 1440x1440 with 12 Axes>"
      ]
     },
     "metadata": {},
     "output_type": "display_data"
    }
   ],
   "source": [
    "import matplotlib.pyplot as plt\n",
    "#Check feature normality\n",
    "f, axes = plt.subplots(4, 3, figsize=(20, 20), sharex=True)\n",
    "#account length\n",
    "sns.distplot(data['account length'], bins='auto',kde=True,ax=axes[0, 0])\n",
    "#number vmail messages\n",
    "sns.distplot(data['number vmail messages'], bins='auto',ax=axes[0, 1])\n",
    "#total day minutes\n",
    "sns.distplot(data['number vmail messages'], bins='auto',ax=axes[0, 2])\n",
    "#total day calls\n",
    "sns.distplot(data['total day calls'], bins='auto',ax=axes[1, 0])\n",
    "#total eve minutes\n",
    "sns.distplot(data['total eve minutes'], bins='auto',ax=axes[1, 1])\n",
    "#total eve calls\n",
    "sns.distplot(data['total eve calls'], bins='auto',ax=axes[1, 2])\n",
    "#total night minutes\n",
    "sns.distplot(data['total night minutes'], bins='auto',ax=axes[2, 0])\n",
    "#total night calls\n",
    "sns.distplot(data['total night calls'], bins='auto',ax=axes[2, 1])\n",
    "#total international minutes\n",
    "sns.distplot(data['total intl minutes'], bins='auto',ax=axes[2, 2])\n",
    "#total international calls\n",
    "sns.distplot(data['total intl calls'], bins='auto',ax=axes[3, 0])\n",
    "#number customer service calls\n",
    "sns.distplot(data['number customer service calls'], bins='auto',ax=axes[3, 1])"
   ]
  },
  {
   "cell_type": "code",
   "execution_count": 55,
   "metadata": {},
   "outputs": [],
   "source": [
    "#store normaly distributed variables separately and apply standardization and apply normalization on the remaining variables\n",
    "#standardization\n",
    "#normvar=['account length','total day minutes','total day calls','total eve minutes','total eve calls','total night minutes','total night calls','total intl minutes','total intl calls']\n",
    "#for i in normvar:\n",
    " #   print(i)\n",
    "  #  data[i] = (data[i] - data[i].mean())/data[i].std()"
   ]
  },
  {
   "cell_type": "code",
   "execution_count": 96,
   "metadata": {},
   "outputs": [
    {
     "name": "stdout",
     "output_type": "stream",
     "text": [
      "number vmail messages\n",
      "account length\n",
      "total day minutes\n",
      "total day calls\n",
      "total eve minutes\n",
      "total eve calls\n",
      "total night minutes\n",
      "total night calls\n",
      "total intl minutes\n",
      "total intl calls\n",
      "number customer service calls\n"
     ]
    }
   ],
   "source": [
    "#feature scaling by normalization\n",
    "#notnorm=['number vmail messages','number customer service calls']\n",
    "notnorm=['number vmail messages','account length','total day minutes','total day calls','total eve minutes','total eve calls','total night minutes','total night calls','total intl minutes','total intl calls','number customer service calls']\n",
    "for i in notnorm:\n",
    "    print(i)\n",
    "    data[i] = (data[i] - min(data[i]))/(max(data[i]) - min(data[i]))"
   ]
  },
  {
   "cell_type": "markdown",
   "metadata": {},
   "source": [
    "<h2>Classification</h2>"
   ]
  },
  {
   "cell_type": "code",
   "execution_count": 97,
   "metadata": {},
   "outputs": [],
   "source": [
    "#Let us consider the Churn Class \"False\" as the -ve class (label:0)\n",
    "#and the churn class \"true\" as +ve class(Label:1)\n",
    "#We will analyse the False negative rate \n",
    "#False -ve rate is imp bcoz we donot want the customers that will churn to be classified as customers who will not churn\n",
    "#This way we will lose the chance to prevent the customers from leaving."
   ]
  },
  {
   "cell_type": "code",
   "execution_count": 98,
   "metadata": {},
   "outputs": [],
   "source": [
    "#We want a considerably good acuracy but a low false negative rate and high senstivity"
   ]
  },
  {
   "cell_type": "code",
   "execution_count": 99,
   "metadata": {},
   "outputs": [],
   "source": [
    "#divide data into train and test\n",
    "train_data=data.loc[(data['isTrain'])==1]\n",
    "train_data=train_data.drop('isTrain',1)\n",
    "test_data=data.loc[(data['isTrain'])==0]\n",
    "test_data=test_data.drop('isTrain',1)\n",
    "\n",
    "#store predictor and target variable separately for train and test data\n",
    "X_train=train_data.drop('Churn',1)\n",
    "Y_train=train_data.Churn\n",
    "X_test=test_data.drop('Churn',1)\n",
    "Y_test=test_data.Churn"
   ]
  },
  {
   "cell_type": "code",
   "execution_count": 100,
   "metadata": {},
   "outputs": [
    {
     "name": "stdout",
     "output_type": "stream",
     "text": [
      "1.0    3193\n",
      "0.0    1602\n",
      "Name: isTrain, dtype: int64\n"
     ]
    }
   ],
   "source": [
    "print(data.isTrain.value_counts())"
   ]
  },
  {
   "cell_type": "markdown",
   "metadata": {},
   "source": [
    "<h4>Decision Tree</h4>"
   ]
  },
  {
   "cell_type": "code",
   "execution_count": 101,
   "metadata": {},
   "outputs": [],
   "source": [
    "# decision tree classification\n",
    "C50_model = tree.DecisionTreeClassifier(criterion='entropy').fit(X_train, Y_train)\n",
    "#predict new test cases\n",
    "C50_Predictions = C50_model.predict(X_test)\n",
    "CM = pd.crosstab(Y_test, C50_Predictions)"
   ]
  },
  {
   "cell_type": "code",
   "execution_count": 102,
   "metadata": {},
   "outputs": [],
   "source": [
    "#let us save TP, TN, FP, FN\n",
    "TN = CM.iloc[0,0]\n",
    "FN = CM.iloc[1,0]\n",
    "TP = CM.iloc[1,1]\n",
    "FP = CM.iloc[0,1]"
   ]
  },
  {
   "cell_type": "code",
   "execution_count": 103,
   "metadata": {},
   "outputs": [
    {
     "data": {
      "image/png": "[encoded data removed]",
      "text/plain": [
       "<Figure size 432x288 with 1 Axes>"
      ]
     },
     "metadata": {},
     "output_type": "display_data"
    }
   ],
   "source": [
    "#ROC curve\n",
    "false_positive_rate, true_positive_rate, thresholds = roc_curve(Y_test, C50_Predictions)\n",
    "roc_auc = auc(false_positive_rate, true_positive_rate)\n",
    "plt.title('Receiver Operating Characteristic')\n",
    "plt.plot(false_positive_rate, true_positive_rate, 'b',label='AUC = %0.2f'% roc_auc)\n",
    "plt.legend(loc='lower right')\n",
    "plt.plot([0,1],[0,1],'r--')\n",
    "plt.xlim([-0.1,1.2])\n",
    "plt.ylim([-0.1,1.2])\n",
    "plt.ylabel('True Positive Rate')\n",
    "plt.xlabel('False Positive Rate')\n",
    "plt.show()"
   ]
  },
  {
   "cell_type": "code",
   "execution_count": 104,
   "metadata": {},
   "outputs": [
    {
     "name": "stdout",
     "output_type": "stream",
     "text": [
      "ERROR METRICS\n",
      "FALSE NEGATIVE RATE  :     28.57 %\n",
      "ACCURACY             :     92.45 %\n",
      "SENSTIVITY           :     71.43 %\n",
      "SPECIFICITY          :     95.86 %\n",
      "PRECISION            :     73.73 %\n",
      "RECALL               :     71.43 %\n",
      "ROC-AUC              :     83.65 %\n"
     ]
    }
   ],
   "source": [
    "print(\"ERROR METRICS\")\n",
    "#False Negative rate \n",
    "print(\"FALSE NEGATIVE RATE  :%10.2f\"%((FN*100)/(FN+TP)),\"%\")\n",
    "#accuracy\n",
    "print(\"ACCURACY             :%10.2f\"%(((TP+TN)*100)/(TP+TN+FP+FN)),\"%\")\n",
    "#senstivity: proportion of actual positives that are correctly classified\n",
    "print(\"SENSTIVITY           :%10.2f\"%(TP*100/(TP+FN)),\"%\")\n",
    "#specificity\n",
    "print(\"SPECIFICITY          :%10.2f\"%(TN*100/(TN+FP)),\"%\")\n",
    "#precision\n",
    "print(\"PRECISION            :%10.2f\"%(TP*100/(TP+FP)),\"%\")\n",
    "#recall\n",
    "print(\"RECALL               :%10.2f\"%(TP*100/(TP+FN)),\"%\")\n",
    "#ROC-AUC\n",
    "print(\"ROC-AUC              :%10.2f\"%(roc_auc*100),\"%\")"
   ]
  },
  {
   "cell_type": "markdown",
   "metadata": {},
   "source": [
    "<h4>Random Forest</h4>"
   ]
  },
  {
   "cell_type": "code",
   "execution_count": 105,
   "metadata": {},
   "outputs": [],
   "source": [
    "#random forest\n",
    "RF_model = RandomForestClassifier(n_estimators = 20).fit(X_train, Y_train)\n",
    "RF_Predictions = RF_model.predict(X_test)\n",
    "CM = pd.crosstab(Y_test, RF_Predictions)\n",
    "#let us save TP, TN, FP, FN\n",
    "TN = CM.iloc[0,0]\n",
    "FN = CM.iloc[1,0]\n",
    "TP = CM.iloc[1,1]\n",
    "FP = CM.iloc[0,1]"
   ]
  },
  {
   "cell_type": "code",
   "execution_count": 106,
   "metadata": {},
   "outputs": [
    {
     "data": {
      "image/png": "[encoded data removed]",
      "text/plain": [
       "<Figure size 432x288 with 1 Axes>"
      ]
     },
     "metadata": {},
     "output_type": "display_data"
    }
   ],
   "source": [
    "#roc-auc\n",
    "false_positive_rate, true_positive_rate, thresholds = roc_curve(Y_test, RF_Predictions)\n",
    "roc_auc = auc(false_positive_rate, true_positive_rate)\n",
    "plt.title('Receiver Operating Characteristic')\n",
    "plt.plot(false_positive_rate, true_positive_rate, 'b',label='AUC = %0.2f'% roc_auc)\n",
    "plt.legend(loc='lower right')\n",
    "plt.plot([0,1],[0,1],'r--')\n",
    "plt.xlim([-0.1,1.2])\n",
    "plt.ylim([-0.1,1.2])\n",
    "plt.ylabel('True Positive Rate')\n",
    "plt.xlabel('False Positive Rate')\n",
    "plt.show()"
   ]
  },
  {
   "cell_type": "code",
   "execution_count": 107,
   "metadata": {},
   "outputs": [
    {
     "name": "stdout",
     "output_type": "stream",
     "text": [
      "ERROR METRICS\n",
      "FALSE NEGATIVE RATE  :     34.38 %\n",
      "ACCURACY             :     94.69 %\n",
      "SENSTIVITY           :     65.62 %\n",
      "SPECIFICITY          :     99.42 %\n",
      "PRECISION            :     94.84 %\n",
      "RECALL               :     65.62 %\n",
      "ROC-AUC              :     82.52 %\n"
     ]
    }
   ],
   "source": [
    "print(\"ERROR METRICS\")\n",
    "#False Negative rate \n",
    "print(\"FALSE NEGATIVE RATE  :%10.2f\"%((FN*100)/(FN+TP)),\"%\")\n",
    "#accuracy\n",
    "print(\"ACCURACY             :%10.2f\"%(((TP+TN)*100)/(TP+TN+FP+FN)),\"%\")\n",
    "#senstivity: proportion of actual positives that are correctly classified\n",
    "print(\"SENSTIVITY           :%10.2f\"%(TP*100/(TP+FN)),\"%\")\n",
    "#specificity\n",
    "print(\"SPECIFICITY          :%10.2f\"%(TN*100/(TN+FP)),\"%\")\n",
    "#precision\n",
    "print(\"PRECISION            :%10.2f\"%(TP*100/(TP+FP)),\"%\")\n",
    "#recall\n",
    "print(\"RECALL               :%10.2f\"%(TP*100/(TP+FN)),\"%\")\n",
    "#ROC-AUC\n",
    "print(\"ROC-AUC              :%10.2f\"%(roc_auc*100),\"%\")"
   ]
  },
  {
   "cell_type": "markdown",
   "metadata": {},
   "source": [
    "<h4>Logistic Regression</h4>"
   ]
  },
  {
   "cell_type": "code",
   "execution_count": 108,
   "metadata": {},
   "outputs": [],
   "source": [
    "#create copy of the data before processing data for Logistic Regression\n",
    "data2=data.copy()\n"
   ]
  },
  {
   "cell_type": "code",
   "execution_count": 109,
   "metadata": {},
   "outputs": [],
   "source": [
    "#Load the copied dataframe to data\n",
    "data=data2"
   ]
  },
  {
   "cell_type": "code",
   "execution_count": 110,
   "metadata": {},
   "outputs": [],
   "source": [
    "#data['Churn'] = data['Churn'].replace(1,'True')\n",
    "#data['Churn'] = data['Churn'].replace(0,'False')"
   ]
  },
  {
   "cell_type": "code",
   "execution_count": 111,
   "metadata": {},
   "outputs": [],
   "source": [
    "#create dummy variables for categorical variables\n",
    "data_logit=pd.get_dummies(data,columns=['international plan','voice mail plan'])"
   ]
  },
  {
   "cell_type": "code",
   "execution_count": 112,
   "metadata": {},
   "outputs": [
    {
     "data": {
      "text/plain": [
       "(4795, 17)"
      ]
     },
     "execution_count": 112,
     "metadata": {},
     "output_type": "execute_result"
    }
   ],
   "source": [
    "data_logit.shape\n"
   ]
  },
  {
   "cell_type": "code",
   "execution_count": 113,
   "metadata": {},
   "outputs": [],
   "source": [
    "#Divide data into train and test data based on isTrain variable value\n",
    "train_data1=data_logit.loc[(data_logit['isTrain'])==True]\n",
    "train_data1=train_data1.drop('isTrain',1)\n",
    "test_data1=data_logit.loc[(data_logit['isTrain'])==False]\n",
    "test_data1=test_data1.drop('isTrain',1)"
   ]
  },
  {
   "cell_type": "code",
   "execution_count": 114,
   "metadata": {},
   "outputs": [
    {
     "data": {
      "text/plain": [
       "(3193, 16)"
      ]
     },
     "execution_count": 114,
     "metadata": {},
     "output_type": "execute_result"
    }
   ],
   "source": [
    "train_data1.shape"
   ]
  },
  {
   "cell_type": "code",
   "execution_count": 115,
   "metadata": {},
   "outputs": [],
   "source": [
    "#store predictor and target variable separately for train and test data\n",
    "X_train1=train_data1.drop('Churn',axis=1)\n",
    "Y_train1=train_data1.iloc[:,11]\n",
    "X_test1=test_data1.drop('Churn',axis=1)\n",
    "Y_test1=test_data1.iloc[:,11]"
   ]
  },
  {
   "cell_type": "code",
   "execution_count": 116,
   "metadata": {},
   "outputs": [
    {
     "data": {
      "text/plain": [
       "(3193, 15)"
      ]
     },
     "execution_count": 116,
     "metadata": {},
     "output_type": "execute_result"
    }
   ],
   "source": [
    "X_train1.shape"
   ]
  },
  {
   "cell_type": "code",
   "execution_count": 117,
   "metadata": {},
   "outputs": [
    {
     "name": "stdout",
     "output_type": "stream",
     "text": [
      "Optimization terminated successfully.\n",
      "         Current function value: 0.331636\n",
      "         Iterations 8\n"
     ]
    },
    {
     "data": {
      "text/html": [
       "<table class=\"simpletable\">\n",
       "<caption>Logit Regression Results</caption>\n",
       "<tr>\n",
       "  <th>Dep. Variable:</th>       <td>Churn</td>      <th>  No. Observations:  </th>   <td>  3193</td>  \n",
       "</tr>\n",
       "<tr>\n",
       "  <th>Model:</th>               <td>Logit</td>      <th>  Df Residuals:      </th>   <td>  3179</td>  \n",
       "</tr>\n",
       "<tr>\n",
       "  <th>Method:</th>               <td>MLE</td>       <th>  Df Model:          </th>   <td>    13</td>  \n",
       "</tr>\n",
       "<tr>\n",
       "  <th>Date:</th>          <td>Tue, 16 Oct 2018</td> <th>  Pseudo R-squ.:     </th>   <td>0.2195</td>  \n",
       "</tr>\n",
       "<tr>\n",
       "  <th>Time:</th>              <td>14:16:02</td>     <th>  Log-Likelihood:    </th>  <td> -1058.9</td> \n",
       "</tr>\n",
       "<tr>\n",
       "  <th>converged:</th>           <td>True</td>       <th>  LL-Null:           </th>  <td> -1356.7</td> \n",
       "</tr>\n",
       "<tr>\n",
       "  <th> </th>                      <td> </td>        <th>  LLR p-value:       </th> <td>6.636e-119</td>\n",
       "</tr>\n",
       "</table>\n",
       "<table class=\"simpletable\">\n",
       "<tr>\n",
       "                <td></td>                   <th>coef</th>     <th>std err</th>      <th>z</th>      <th>P>|z|</th>  <th>[0.025</th>    <th>0.975]</th>  \n",
       "</tr>\n",
       "<tr>\n",
       "  <th>account length</th>                <td>    0.2721</td> <td>    0.338</td> <td>    0.804</td> <td> 0.421</td> <td>   -0.391</td> <td>    0.935</td>\n",
       "</tr>\n",
       "<tr>\n",
       "  <th>number vmail messages</th>         <td>    1.7749</td> <td>    0.938</td> <td>    1.891</td> <td> 0.059</td> <td>   -0.065</td> <td>    3.614</td>\n",
       "</tr>\n",
       "<tr>\n",
       "  <th>total day minutes</th>             <td>    4.6133</td> <td>    0.384</td> <td>   12.001</td> <td> 0.000</td> <td>    3.860</td> <td>    5.367</td>\n",
       "</tr>\n",
       "<tr>\n",
       "  <th>total day calls</th>               <td>    0.4514</td> <td>    0.456</td> <td>    0.990</td> <td> 0.322</td> <td>   -0.442</td> <td>    1.345</td>\n",
       "</tr>\n",
       "<tr>\n",
       "  <th>total eve minutes</th>             <td>    2.6058</td> <td>    0.418</td> <td>    6.228</td> <td> 0.000</td> <td>    1.786</td> <td>    3.426</td>\n",
       "</tr>\n",
       "<tr>\n",
       "  <th>total eve calls</th>               <td>    0.2448</td> <td>    0.474</td> <td>    0.516</td> <td> 0.606</td> <td>   -0.685</td> <td>    1.174</td>\n",
       "</tr>\n",
       "<tr>\n",
       "  <th>total night minutes</th>           <td>    1.3564</td> <td>    0.440</td> <td>    3.081</td> <td> 0.002</td> <td>    0.494</td> <td>    2.219</td>\n",
       "</tr>\n",
       "<tr>\n",
       "  <th>total night calls</th>             <td>    0.0980</td> <td>    0.500</td> <td>    0.196</td> <td> 0.845</td> <td>   -0.882</td> <td>    1.078</td>\n",
       "</tr>\n",
       "<tr>\n",
       "  <th>total intl minutes</th>            <td>    1.8290</td> <td>    0.413</td> <td>    4.433</td> <td> 0.000</td> <td>    1.020</td> <td>    2.638</td>\n",
       "</tr>\n",
       "<tr>\n",
       "  <th>total intl calls</th>              <td>   -1.8512</td> <td>    0.501</td> <td>   -3.697</td> <td> 0.000</td> <td>   -2.833</td> <td>   -0.870</td>\n",
       "</tr>\n",
       "<tr>\n",
       "  <th>number customer service calls</th> <td>    4.6573</td> <td>    0.356</td> <td>   13.067</td> <td> 0.000</td> <td>    3.959</td> <td>    5.356</td>\n",
       "</tr>\n",
       "<tr>\n",
       "  <th>international plan_0.0</th>        <td>   -5.3183</td> <td> 6.48e+06</td> <td> -8.2e-07</td> <td> 1.000</td> <td>-1.27e+07</td> <td> 1.27e+07</td>\n",
       "</tr>\n",
       "<tr>\n",
       "  <th>international plan_1.0</th>        <td>   -3.2596</td> <td> 6.48e+06</td> <td>-5.03e-07</td> <td> 1.000</td> <td>-1.27e+07</td> <td> 1.27e+07</td>\n",
       "</tr>\n",
       "<tr>\n",
       "  <th>voice mail plan_0.0</th>           <td>   -3.2895</td> <td> 6.48e+06</td> <td>-5.07e-07</td> <td> 1.000</td> <td>-1.27e+07</td> <td> 1.27e+07</td>\n",
       "</tr>\n",
       "<tr>\n",
       "  <th>voice mail plan_1.0</th>           <td>   -5.2884</td> <td> 6.48e+06</td> <td>-8.16e-07</td> <td> 1.000</td> <td>-1.27e+07</td> <td> 1.27e+07</td>\n",
       "</tr>\n",
       "</table>"
      ],
      "text/plain": [
       "<class 'statsmodels.iolib.summary.Summary'>\n",
       "\"\"\"\n",
       "                           Logit Regression Results                           \n",
       "==============================================================================\n",
       "Dep. Variable:                  Churn   No. Observations:                 3193\n",
       "Model:                          Logit   Df Residuals:                     3179\n",
       "Method:                           MLE   Df Model:                           13\n",
       "Date:                Tue, 16 Oct 2018   Pseudo R-squ.:                  0.2195\n",
       "Time:                        14:16:02   Log-Likelihood:                -1058.9\n",
       "converged:                       True   LL-Null:                       -1356.7\n",
       "                                        LLR p-value:                6.636e-119\n",
       "=================================================================================================\n",
       "                                    coef    std err          z      P>|z|      [0.025      0.975]\n",
       "-------------------------------------------------------------------------------------------------\n",
       "account length                    0.2721      0.338      0.804      0.421      -0.391       0.935\n",
       "number vmail messages             1.7749      0.938      1.891      0.059      -0.065       3.614\n",
       "total day minutes                 4.6133      0.384     12.001      0.000       3.860       5.367\n",
       "total day calls                   0.4514      0.456      0.990      0.322      -0.442       1.345\n",
       "total eve minutes                 2.6058      0.418      6.228      0.000       1.786       3.426\n",
       "total eve calls                   0.2448      0.474      0.516      0.606      -0.685       1.174\n",
       "total night minutes               1.3564      0.440      3.081      0.002       0.494       2.219\n",
       "total night calls                 0.0980      0.500      0.196      0.845      -0.882       1.078\n",
       "total intl minutes                1.8290      0.413      4.433      0.000       1.020       2.638\n",
       "total intl calls                 -1.8512      0.501     -3.697      0.000      -2.833      -0.870\n",
       "number customer service calls     4.6573      0.356     13.067      0.000       3.959       5.356\n",
       "international plan_0.0           -5.3183   6.48e+06   -8.2e-07      1.000   -1.27e+07    1.27e+07\n",
       "international plan_1.0           -3.2596   6.48e+06  -5.03e-07      1.000   -1.27e+07    1.27e+07\n",
       "voice mail plan_0.0              -3.2895   6.48e+06  -5.07e-07      1.000   -1.27e+07    1.27e+07\n",
       "voice mail plan_1.0              -5.2884   6.48e+06  -8.16e-07      1.000   -1.27e+07    1.27e+07\n",
       "=================================================================================================\n",
       "\"\"\""
      ]
     },
     "execution_count": 117,
     "metadata": {},
     "output_type": "execute_result"
    }
   ],
   "source": [
    "#Create Logistic Regression model\n",
    "logit = sm.Logit(Y_train1, X_train1).fit()\n",
    "\n",
    "logit.summary()"
   ]
  },
  {
   "cell_type": "code",
   "execution_count": 118,
   "metadata": {},
   "outputs": [],
   "source": [
    "#Predict test data\n",
    "X_test1['Actual_prob'] = logit.predict(X_test1)\n",
    "\n",
    "X_test1['ActualVal'] = 1\n",
    "X_test1.loc[X_test1.Actual_prob < 0.5, 'ActualVal'] = 0"
   ]
  },
  {
   "cell_type": "code",
   "execution_count": 119,
   "metadata": {},
   "outputs": [],
   "source": [
    "#Build confusion matrix\n",
    "CM = pd.crosstab(Y_test1, X_test1['ActualVal'])\n",
    "\n",
    "#let us save TP, TN, FP, FN\n",
    "TN = CM.iloc[0,0]\n",
    "FN = CM.iloc[1,0]\n",
    "TP = CM.iloc[1,1]\n",
    "FP = CM.iloc[0,1]"
   ]
  },
  {
   "cell_type": "code",
   "execution_count": 120,
   "metadata": {},
   "outputs": [
    {
     "data": {
      "image/png": "[encoded data removed]",
      "text/plain": [
       "<Figure size 432x288 with 1 Axes>"
      ]
     },
     "metadata": {},
     "output_type": "display_data"
    }
   ],
   "source": [
    "#roc-auc\n",
    "false_positive_rate, true_positive_rate, thresholds = roc_curve(Y_test1, X_test1['ActualVal'])\n",
    "roc_auc = auc(false_positive_rate, true_positive_rate)\n",
    "plt.title('Receiver Operating Characteristic')\n",
    "plt.plot(false_positive_rate, true_positive_rate, 'b',label='AUC = %0.2f'% roc_auc)\n",
    "plt.legend(loc='lower right')\n",
    "plt.plot([0,1],[0,1],'r--')\n",
    "plt.xlim([-0.1,1.2])\n",
    "plt.ylim([-0.1,1.2])\n",
    "plt.ylabel('True Positive Rate')\n",
    "plt.xlabel('False Positive Rate')\n",
    "plt.show()"
   ]
  },
  {
   "cell_type": "code",
   "execution_count": 81,
   "metadata": {},
   "outputs": [
    {
     "name": "stdout",
     "output_type": "stream",
     "text": [
      "ERROR METRICS\n",
      "FALSE NEGATIVE RATE  :     18.30 %\n",
      "ACCURACY             :     78.35 %\n",
      "SENSTIVITY           :     81.70 %\n",
      "SPECIFICITY          :     75.21 %\n",
      "PRECISION            :     75.62 %\n",
      "RECALL               :     81.70 %\n",
      "ROC-AUC              :     78.45 %\n"
     ]
    }
   ],
   "source": [
    "print(\"ERROR METRICS\")\n",
    "#False Negative rate \n",
    "print(\"FALSE NEGATIVE RATE  :%10.2f\"%((FN*100)/(FN+TP)),\"%\")\n",
    "#accuracy\n",
    "print(\"ACCURACY             :%10.2f\"%(((TP+TN)*100)/(TP+TN+FP+FN)),\"%\")\n",
    "#senstivity: proportion of actual positives that are correctly classified\n",
    "print(\"SENSTIVITY           :%10.2f\"%(TP*100/(TP+FN)),\"%\")\n",
    "#specificity\n",
    "print(\"SPECIFICITY          :%10.2f\"%(TN*100/(TN+FP)),\"%\")\n",
    "#precision\n",
    "print(\"PRECISION            :%10.2f\"%(TP*100/(TP+FP)),\"%\")\n",
    "#recall\n",
    "print(\"RECALL               :%10.2f\"%(TP*100/(TP+FN)),\"%\")\n",
    "#ROC-AUC\n",
    "print(\"ROC-AUC              :%10.2f\"%(roc_auc*100),\"%\")"
   ]
  },
  {
   "cell_type": "markdown",
   "metadata": {},
   "source": [
    "\n",
    "<h4>KNN Classifier</h4>\n",
    "\n",
    "\n",
    "\n",
    "\n",
    "\n"
   ]
  },
  {
   "cell_type": "code",
   "execution_count": 82,
   "metadata": {},
   "outputs": [],
   "source": [
    "#Load the copied dataframe to data\n",
    "data=data2"
   ]
  },
  {
   "cell_type": "code",
   "execution_count": 83,
   "metadata": {},
   "outputs": [],
   "source": [
    "KNN_model = KNeighborsClassifier(n_neighbors = 9).fit(X_train, Y_train)\n"
   ]
  },
  {
   "cell_type": "code",
   "execution_count": 84,
   "metadata": {},
   "outputs": [
    {
     "data": {
      "text/plain": [
       "(462, 13)"
      ]
     },
     "execution_count": 84,
     "metadata": {},
     "output_type": "execute_result"
    }
   ],
   "source": [
    "X_test.shape"
   ]
  },
  {
   "cell_type": "code",
   "execution_count": 85,
   "metadata": {},
   "outputs": [],
   "source": [
    "#predict test cases\n",
    "KNN_Predictions = KNN_model.predict(X_test)"
   ]
  },
  {
   "cell_type": "code",
   "execution_count": 86,
   "metadata": {},
   "outputs": [],
   "source": [
    "#build confusion matrix\n",
    "CM = pd.crosstab(Y_test, KNN_Predictions,rownames=['actual class'],colnames=['KNN predicted class'])\n",
    "\n",
    "#let us save TP, TN, FP, FN\n",
    "TN = CM.iloc[0,0]\n",
    "FN = CM.iloc[1,0]\n",
    "TP = CM.iloc[1,1]\n",
    "FP = CM.iloc[0,1]"
   ]
  },
  {
   "cell_type": "code",
   "execution_count": 87,
   "metadata": {},
   "outputs": [
    {
     "data": {
      "text/html": [
       "<div>\n",
       "<style scoped>\n",
       "    .dataframe tbody tr th:only-of-type {\n",
       "        vertical-align: middle;\n",
       "    }\n",
       "\n",
       "    .dataframe tbody tr th {\n",
       "        vertical-align: top;\n",
       "    }\n",
       "\n",
       "    .dataframe thead th {\n",
       "        text-align: right;\n",
       "    }\n",
       "</style>\n",
       "<table border=\"1\" class=\"dataframe\">\n",
       "  <thead>\n",
       "    <tr style=\"text-align: right;\">\n",
       "      <th>KNN predicted class</th>\n",
       "      <th>0</th>\n",
       "      <th>1</th>\n",
       "    </tr>\n",
       "    <tr>\n",
       "      <th>actual class</th>\n",
       "      <th></th>\n",
       "      <th></th>\n",
       "    </tr>\n",
       "  </thead>\n",
       "  <tbody>\n",
       "    <tr>\n",
       "      <th>0</th>\n",
       "      <td>207</td>\n",
       "      <td>31</td>\n",
       "    </tr>\n",
       "    <tr>\n",
       "      <th>1</th>\n",
       "      <td>40</td>\n",
       "      <td>184</td>\n",
       "    </tr>\n",
       "  </tbody>\n",
       "</table>\n",
       "</div>"
      ],
      "text/plain": [
       "KNN predicted class    0    1\n",
       "actual class                 \n",
       "0                    207   31\n",
       "1                     40  184"
      ]
     },
     "execution_count": 87,
     "metadata": {},
     "output_type": "execute_result"
    }
   ],
   "source": [
    "CM"
   ]
  },
  {
   "cell_type": "code",
   "execution_count": 88,
   "metadata": {},
   "outputs": [
    {
     "data": {
      "image/png": "[encoded data removed]",
      "text/plain": [
       "<Figure size 432x288 with 1 Axes>"
      ]
     },
     "metadata": {},
     "output_type": "display_data"
    }
   ],
   "source": [
    "#roc-auc\n",
    "false_positive_rate, true_positive_rate, thresholds = roc_curve(Y_test, KNN_Predictions)\n",
    "roc_auc = auc(false_positive_rate, true_positive_rate)\n",
    "plt.title('Receiver Operating Characteristic')\n",
    "plt.plot(false_positive_rate, true_positive_rate, 'b',label='AUC = %0.2f'% roc_auc)\n",
    "plt.legend(loc='lower right')\n",
    "plt.plot([0,1],[0,1],'r--')\n",
    "plt.xlim([-0.1,1.2])\n",
    "plt.ylim([-0.1,1.2])\n",
    "plt.ylabel('True Positive Rate')\n",
    "plt.xlabel('False Positive Rate')\n",
    "plt.show()"
   ]
  },
  {
   "cell_type": "code",
   "execution_count": 89,
   "metadata": {},
   "outputs": [
    {
     "name": "stdout",
     "output_type": "stream",
     "text": [
      "ERROR METRICS\n",
      "FALSE NEGATIVE RATE  :     17.86 %\n",
      "ACCURACY             :     84.63 %\n",
      "SENSTIVITY           :     82.14 %\n",
      "SPECIFICITY          :     86.97 %\n",
      "PRECISION            :     85.58 %\n",
      "RECALL               :     82.14 %\n",
      "ROC-AUC              :     84.56 %\n"
     ]
    }
   ],
   "source": [
    "print(\"ERROR METRICS\")\n",
    "#False Negative rate \n",
    "print(\"FALSE NEGATIVE RATE  :%10.2f\"%((FN*100)/(FN+TP)),\"%\")\n",
    "#accuracy\n",
    "print(\"ACCURACY             :%10.2f\"%(((TP+TN)*100)/(TP+TN+FP+FN)),\"%\")\n",
    "#senstivity: proportion of actual positives that are correctly classified\n",
    "print(\"SENSTIVITY           :%10.2f\"%(TP*100/(TP+FN)),\"%\")\n",
    "#specificity\n",
    "print(\"SPECIFICITY          :%10.2f\"%(TN*100/(TN+FP)),\"%\")\n",
    "#precision\n",
    "print(\"PRECISION            :%10.2f\"%(TP*100/(TP+FP)),\"%\")\n",
    "#recall\n",
    "print(\"RECALL               :%10.2f\"%(TP*100/(TP+FN)),\"%\")\n",
    "#ROC-AUC\n",
    "print(\"ROC-AUC              :%10.2f\"%(roc_auc*100),\"%\")"
   ]
  },
  {
   "cell_type": "markdown",
   "metadata": {},
   "source": [
    "<h4> Naive Bayes</h4>"
   ]
  },
  {
   "cell_type": "code",
   "execution_count": 90,
   "metadata": {},
   "outputs": [],
   "source": [
    "#Naive Bayes implementation\n",
    "NB_model = GaussianNB().fit(X_train, Y_train)\n",
    "#predict test cases\n",
    "NB_Predictions = NB_model.predict(X_test)\n",
    "#Build confusion matrix\n",
    "CM = pd.crosstab(Y_test, NB_Predictions)\n",
    "\n",
    "#let us save TP, TN, FP, FN\n",
    "TN = CM.iloc[0,0]\n",
    "FN = CM.iloc[1,0]\n",
    "TP = CM.iloc[1,1]\n",
    "FP = CM.iloc[0,1]"
   ]
  },
  {
   "cell_type": "code",
   "execution_count": 91,
   "metadata": {},
   "outputs": [
    {
     "data": {
      "image/png": "[encoded data removed]",
      "text/plain": [
       "<Figure size 432x288 with 1 Axes>"
      ]
     },
     "metadata": {},
     "output_type": "display_data"
    }
   ],
   "source": [
    "#roc-auc\n",
    "false_positive_rate, true_positive_rate, thresholds = roc_curve(Y_test, NB_Predictions)\n",
    "roc_auc = auc(false_positive_rate, true_positive_rate)\n",
    "plt.title('Receiver Operating Characteristic')\n",
    "plt.plot(false_positive_rate, true_positive_rate, 'b',label='AUC = %0.2f'% roc_auc)\n",
    "plt.legend(loc='lower right')\n",
    "plt.plot([0,1],[0,1],'r--')\n",
    "plt.xlim([-0.1,1.2])\n",
    "plt.ylim([-0.1,1.2])\n",
    "plt.ylabel('True Positive Rate')\n",
    "plt.xlabel('False Positive Rate')\n",
    "plt.show()"
   ]
  },
  {
   "cell_type": "code",
   "execution_count": 92,
   "metadata": {},
   "outputs": [
    {
     "name": "stdout",
     "output_type": "stream",
     "text": [
      "ERROR METRICS\n",
      "FALSE NEGATIVE RATE  :     16.07 %\n",
      "ACCURACY             :     83.55 %\n",
      "SENSTIVITY           :     83.93 %\n",
      "SPECIFICITY          :     83.19 %\n",
      "PRECISION            :     82.46 %\n",
      "RECALL               :     83.93 %\n",
      "ROC-AUC              :     83.56 %\n"
     ]
    }
   ],
   "source": [
    "print(\"ERROR METRICS\")\n",
    "#False Negative rate \n",
    "print(\"FALSE NEGATIVE RATE  :%10.2f\"%((FN*100)/(FN+TP)),\"%\")\n",
    "#accuracy\n",
    "print(\"ACCURACY             :%10.2f\"%(((TP+TN)*100)/(TP+TN+FP+FN)),\"%\")\n",
    "#senstivity: proportion of actual positives that are correctly classified\n",
    "print(\"SENSTIVITY           :%10.2f\"%(TP*100/(TP+FN)),\"%\")\n",
    "#specificity\n",
    "print(\"SPECIFICITY          :%10.2f\"%(TN*100/(TN+FP)),\"%\")\n",
    "#precision\n",
    "print(\"PRECISION            :%10.2f\"%(TP*100/(TP+FP)),\"%\")\n",
    "#recall\n",
    "print(\"RECALL               :%10.2f\"%(TP*100/(TP+FN)),\"%\")\n",
    "#ROC-AUC\n",
    "print(\"ROC-AUC              :%10.2f\"%(roc_auc*100),\"%\")"
   ]
  },
  {
   "cell_type": "code",
   "execution_count": null,
   "metadata": {},
   "outputs": [],
   "source": []
  },
  {
   "cell_type": "code",
   "execution_count": null,
   "metadata": {},
   "outputs": [],
   "source": []
  }
 ],
 "metadata": {
  "kernelspec": {
   "display_name": "Python 3",
   "language": "python",
   "name": "python3"
  },
  "language_info": {
   "codemirror_mode": {
    "name": "ipython",
    "version": 3
   },
   "file_extension": ".py",
   "mimetype": "text/x-python",
   "name": "python",
   "nbconvert_exporter": "python",
   "pygments_lexer": "ipython3",
   "version": "3.6.5"
  }
 },
 "nbformat": 4,
 "nbformat_minor": 2
}
